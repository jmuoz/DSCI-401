{
  "nbformat": 4,
  "nbformat_minor": 0,
  "metadata": {
    "colab": {
      "name": "ans_4.ipynb",
      "version": "0.3.2",
      "provenance": []
    },
    "kernelspec": {
      "name": "python3",
      "display_name": "Python 3"
    },
    "accelerator": "TPU"
  },
  "cells": [
    {
      "metadata": {
        "id": "q4-VJOGnjPTI",
        "colab_type": "text"
      },
      "cell_type": "markdown",
      "source": [
        "Using a RNN for text analysis on the IMDB dataset"
      ]
    },
    {
      "metadata": {
        "id": "mhDhDDBWjawJ",
        "colab_type": "code",
        "outputId": "3094614d-0ad3-4892-b534-4da5afd18290",
        "colab": {
          "base_uri": "https://localhost:8080/",
          "height": 52
        }
      },
      "cell_type": "code",
      "source": [
        "#Just using imports from colab tutorial\n",
        "from keras.preprocessing import sequence\n",
        "from keras.models import Sequential\n",
        "from keras.layers import Dense, Embedding, Dropout, Flatten\n",
        "from keras.layers import LSTM, CuDNNLSTM\n",
        "from keras.datasets import imdb\n",
        "\n",
        "from distutils.version import LooseVersion as LV\n",
        "from keras import __version__\n",
        "from keras import backend as K\n",
        "\n",
        "from IPython.display import SVG\n",
        "from keras.utils.vis_utils import model_to_dot\n",
        "\n",
        "import numpy as np\n",
        "import matplotlib.pyplot as plt\n",
        "import seaborn as sns\n",
        "sns.set()\n",
        "\n",
        "print('Using Keras version:', __version__, 'backend:', K.backend())\n",
        "assert(LV(__version__) >= LV(\"2.0.0\"))"
      ],
      "execution_count": 1,
      "outputs": [
        {
          "output_type": "stream",
          "text": [
            "Using TensorFlow backend.\n"
          ],
          "name": "stderr"
        },
        {
          "output_type": "stream",
          "text": [
            "Using Keras version: 2.2.4 backend: tensorflow\n"
          ],
          "name": "stdout"
        }
      ]
    },
    {
      "metadata": {
        "id": "P0n67VZolooX",
        "colab_type": "text"
      },
      "cell_type": "markdown",
      "source": [
        "Need to get data and get it into the correct shape to be usable!"
      ]
    },
    {
      "metadata": {
        "id": "cHeM8mAqk-Qg",
        "colab_type": "code",
        "outputId": "e38209a3-8dec-4357-9c92-b69c725e4103",
        "colab": {
          "base_uri": "https://localhost:8080/",
          "height": 121
        }
      },
      "cell_type": "code",
      "source": [
        "# using tutorial code to just grab the data and shape it\n",
        "# determines how many words to sample\n",
        "number_words = 10000\n",
        "# cut texts after this number of words\n",
        "max_len = 80\n",
        "\n",
        "print('Loading data...')\n",
        "(x_train, y_train), (x_test, y_test) = imdb.load_data(num_words=number_words)\n",
        "print('x_train:', x_train.shape)\n",
        "print('x_test:', x_test.shape)\n",
        "print()\n",
        "\n",
        "x_train = sequence.pad_sequences(x_train, maxlen=max_len)\n",
        "x_test = sequence.pad_sequences(x_test, maxlen=max_len)\n",
        "print('x_train shape:', x_train.shape)\n",
        "print('x_test shape:', x_test.shape)"
      ],
      "execution_count": 0,
      "outputs": [
        {
          "output_type": "stream",
          "text": [
            "Loading data...\n",
            "x_train: (25000,)\n",
            "x_test: (25000,)\n",
            "\n",
            "x_train shape: (25000, 80)\n",
            "x_test shape: (25000, 80)\n"
          ],
          "name": "stdout"
        }
      ]
    },
    {
      "metadata": {
        "id": "-NQYMrZ8lx1D",
        "colab_type": "text"
      },
      "cell_type": "markdown",
      "source": [
        "Create super basic model using embedding layer"
      ]
    },
    {
      "metadata": {
        "id": "SbJPi5tpmp9p",
        "colab_type": "code",
        "outputId": "897f0d28-d2a5-43c9-ba51-a2a55128d265",
        "colab": {
          "base_uri": "https://localhost:8080/",
          "height": 315
        }
      },
      "cell_type": "code",
      "source": [
        "#create base model object\n",
        "base_model = Sequential()\n",
        "base_model.add(Embedding(10000, 8, input_length=max_len)) #using the embedding layer to make word embeddings instead of vectorizing the words\n",
        "\n",
        "base_model.add(Flatten())\n",
        "\n",
        "base_model.add(Dense(1, activation='sigmoid'))\n",
        "base_model.compile(optimizer='rmsprop', loss='binary_crossentropy', metrics=['acc'])\n",
        "base_model.summary()"
      ],
      "execution_count": 0,
      "outputs": [
        {
          "output_type": "stream",
          "text": [
            "WARNING:tensorflow:From /usr/local/lib/python3.6/dist-packages/tensorflow/python/framework/op_def_library.py:263: colocate_with (from tensorflow.python.framework.ops) is deprecated and will be removed in a future version.\n",
            "Instructions for updating:\n",
            "Colocations handled automatically by placer.\n",
            "_________________________________________________________________\n",
            "Layer (type)                 Output Shape              Param #   \n",
            "=================================================================\n",
            "embedding_1 (Embedding)      (None, 20, 8)             80000     \n",
            "_________________________________________________________________\n",
            "flatten_1 (Flatten)          (None, 160)               0         \n",
            "_________________________________________________________________\n",
            "dense_1 (Dense)              (None, 1)                 161       \n",
            "=================================================================\n",
            "Total params: 80,161\n",
            "Trainable params: 80,161\n",
            "Non-trainable params: 0\n",
            "_________________________________________________________________\n"
          ],
          "name": "stdout"
        }
      ]
    },
    {
      "metadata": {
        "id": "iPBp9L0LnuGX",
        "colab_type": "code",
        "outputId": "f9433827-21a0-4ebb-d634-6fa88c54d7cb",
        "colab": {
          "base_uri": "https://localhost:8080/",
          "height": 453
        }
      },
      "cell_type": "code",
      "source": [
        "#run it!\n",
        "base_history = base_model.fit(x_train, y_train, epochs=10, batch_size=32, validation_split=0.2)"
      ],
      "execution_count": 0,
      "outputs": [
        {
          "output_type": "stream",
          "text": [
            "WARNING:tensorflow:From /usr/local/lib/python3.6/dist-packages/tensorflow/python/ops/math_ops.py:3066: to_int32 (from tensorflow.python.ops.math_ops) is deprecated and will be removed in a future version.\n",
            "Instructions for updating:\n",
            "Use tf.cast instead.\n",
            "Train on 20000 samples, validate on 5000 samples\n",
            "Epoch 1/10\n",
            "20000/20000 [==============================] - 5s 250us/step - loss: 0.6759 - acc: 0.6050 - val_loss: 0.6398 - val_acc: 0.6814\n",
            "Epoch 2/10\n",
            "20000/20000 [==============================] - 3s 128us/step - loss: 0.5657 - acc: 0.7427 - val_loss: 0.5467 - val_acc: 0.7206\n",
            "Epoch 3/10\n",
            "20000/20000 [==============================] - 3s 127us/step - loss: 0.4752 - acc: 0.7808 - val_loss: 0.5113 - val_acc: 0.7384\n",
            "Epoch 4/10\n",
            "20000/20000 [==============================] - 3s 127us/step - loss: 0.4263 - acc: 0.8077 - val_loss: 0.5008 - val_acc: 0.7452\n",
            "Epoch 5/10\n",
            "20000/20000 [==============================] - 3s 131us/step - loss: 0.3930 - acc: 0.8258 - val_loss: 0.4981 - val_acc: 0.7538\n",
            "Epoch 6/10\n",
            "20000/20000 [==============================] - 3s 126us/step - loss: 0.3668 - acc: 0.8395 - val_loss: 0.5014 - val_acc: 0.7530\n",
            "Epoch 7/10\n",
            "20000/20000 [==============================] - 3s 128us/step - loss: 0.3435 - acc: 0.8533 - val_loss: 0.5052 - val_acc: 0.7520\n",
            "Epoch 8/10\n",
            "20000/20000 [==============================] - 3s 127us/step - loss: 0.3223 - acc: 0.8657 - val_loss: 0.5132 - val_acc: 0.7486\n",
            "Epoch 9/10\n",
            "20000/20000 [==============================] - 3s 126us/step - loss: 0.3022 - acc: 0.8766 - val_loss: 0.5213 - val_acc: 0.7490\n",
            "Epoch 10/10\n",
            "20000/20000 [==============================] - 3s 127us/step - loss: 0.2839 - acc: 0.8860 - val_loss: 0.5303 - val_acc: 0.7466\n"
          ],
          "name": "stdout"
        }
      ]
    },
    {
      "metadata": {
        "id": "8oPh-0aIoNS0",
        "colab_type": "text"
      },
      "cell_type": "markdown",
      "source": [
        "We ended up getting validation accuracy of .74 just like in the book!\n",
        "But now its time to increase performance by using a RNN instead of a Feed-forward network."
      ]
    },
    {
      "metadata": {
        "id": "t-L16KUKoR1R",
        "colab_type": "code",
        "outputId": "3a0e9f25-a68f-4f0d-fb2c-8932e2f14e7a",
        "colab": {
          "base_uri": "https://localhost:8080/",
          "height": 367
        }
      },
      "cell_type": "code",
      "source": [
        "#update max_len for the RNN example\n",
        "max_len = 80\n",
        "embedding_dims = 50\n",
        "lstm_units = 32\n",
        "#recurrent imdb model\n",
        "r_i_model = Sequential()\n",
        "r_i_model.add(Embedding(number_words, embedding_dims, input_length=max_len))\n",
        "r_i_model.add(Dropout(0.2)) #stop overfitting NOW!\n",
        "r_i_model.add(LSTM(lstm_units)) #this is what makes it an RNN\n",
        "r_i_model.add(Dense(1, activation='sigmoid'))\n",
        "\n",
        "r_i_model.compile(loss='binary_crossentropy',\n",
        "              optimizer='rmsprop',\n",
        "              metrics=['accuracy'])\n",
        "print(r_i_model.summary())\n"
      ],
      "execution_count": 0,
      "outputs": [
        {
          "output_type": "stream",
          "text": [
            "WARNING:tensorflow:From /usr/local/lib/python3.6/dist-packages/keras/backend/tensorflow_backend.py:3445: calling dropout (from tensorflow.python.ops.nn_ops) with keep_prob is deprecated and will be removed in a future version.\n",
            "Instructions for updating:\n",
            "Please use `rate` instead of `keep_prob`. Rate should be set to `rate = 1 - keep_prob`.\n",
            "_________________________________________________________________\n",
            "Layer (type)                 Output Shape              Param #   \n",
            "=================================================================\n",
            "embedding_2 (Embedding)      (None, 80, 50)            500000    \n",
            "_________________________________________________________________\n",
            "dropout_1 (Dropout)          (None, 80, 50)            0         \n",
            "_________________________________________________________________\n",
            "lstm_1 (LSTM)                (None, 32)                10624     \n",
            "_________________________________________________________________\n",
            "dense_2 (Dense)              (None, 1)                 33        \n",
            "=================================================================\n",
            "Total params: 510,657\n",
            "Trainable params: 510,657\n",
            "Non-trainable params: 0\n",
            "_________________________________________________________________\n",
            "None\n"
          ],
          "name": "stdout"
        }
      ]
    },
    {
      "metadata": {
        "id": "Msjnh7iVqLLr",
        "colab_type": "code",
        "outputId": "0181239b-08df-4daf-ed73-05148ffcc4a7",
        "colab": {
          "base_uri": "https://localhost:8080/",
          "height": 208
        }
      },
      "cell_type": "code",
      "source": [
        "#LETS GO\n",
        "epochs = 5\n",
        "validation_split = 0.2\n",
        "\n",
        "r_i_history = r_i_model.fit(x_train, y_train, batch_size=128,\n",
        "          epochs=epochs, \n",
        "          validation_split=validation_split)"
      ],
      "execution_count": 0,
      "outputs": [
        {
          "output_type": "stream",
          "text": [
            "Train on 20000 samples, validate on 5000 samples\n",
            "Epoch 1/5\n",
            "20000/20000 [==============================] - 29s 1ms/step - loss: 0.5158 - acc: 0.7449 - val_loss: 0.4521 - val_acc: 0.7898\n",
            "Epoch 2/5\n",
            "20000/20000 [==============================] - 28s 1ms/step - loss: 0.3294 - acc: 0.8621 - val_loss: 0.3521 - val_acc: 0.8420\n",
            "Epoch 3/5\n",
            "20000/20000 [==============================] - 29s 1ms/step - loss: 0.2766 - acc: 0.8885 - val_loss: 0.3765 - val_acc: 0.8308\n",
            "Epoch 4/5\n",
            "20000/20000 [==============================] - 29s 1ms/step - loss: 0.2500 - acc: 0.8996 - val_loss: 0.3558 - val_acc: 0.8424\n",
            "Epoch 5/5\n",
            "20000/20000 [==============================] - 28s 1ms/step - loss: 0.2298 - acc: 0.9095 - val_loss: 0.3885 - val_acc: 0.8438\n"
          ],
          "name": "stdout"
        }
      ]
    },
    {
      "metadata": {
        "id": "CSVobFiTrDwO",
        "colab_type": "code",
        "outputId": "a4f0fc82-50ed-4e59-f40d-47033f0e3c25",
        "colab": {
          "base_uri": "https://localhost:8080/",
          "height": 436
        }
      },
      "cell_type": "code",
      "source": [
        "plt.figure(figsize=(5,3))\n",
        "plt.plot(r_i_history.epoch,r_i_history.history['loss'], label='training')\n",
        "plt.plot(r_i_history.epoch,r_i_history.history['val_loss'], label='validation')\n",
        "plt.title('loss')\n",
        "plt.legend(loc='best')\n",
        "\n",
        "plt.figure(figsize=(5,3))\n",
        "plt.plot(r_i_history.epoch,r_i_history.history['acc'], label='training')\n",
        "plt.plot(r_i_history.epoch,r_i_history.history['val_acc'], label='validation')\n",
        "plt.title('accuracy')\n",
        "plt.legend(loc='best');"
      ],
      "execution_count": 0,
      "outputs": [
        {
          "output_type": "display_data",
          "data": {
            "image/png": "[encoded data removed]",
            "text/plain": [
              "<Figure size 360x216 with 1 Axes>"
            ]
          },
          "metadata": {
            "tags": []
          }
        },
        {
          "output_type": "display_data",
          "data": {
            "image/png": "[encoded data removed]",
            "text/plain": [
              "<Figure size 360x216 with 1 Axes>"
            ]
          },
          "metadata": {
            "tags": []
          }
        }
      ]
    },
    {
      "metadata": {
        "id": "V8qBu3mUrZot",
        "colab_type": "text"
      },
      "cell_type": "markdown",
      "source": [
        "Looks like 3 epochs is the magic number. But what if we stack LSTM layers?"
      ]
    },
    {
      "metadata": {
        "id": "ofydgY66re9p",
        "colab_type": "code",
        "outputId": "1e592b28-5952-4c83-da4d-790b2deea254",
        "colab": {
          "base_uri": "https://localhost:8080/",
          "height": 329
        }
      },
      "cell_type": "code",
      "source": [
        "r_model2 = Sequential()\n",
        "r_model2.add(Embedding(number_words, embedding_dims, input_length=max_len))\n",
        "r_model2.add(Dropout(0.2))\n",
        "r_model2.add(LSTM(lstm_units, return_sequences=True))\n",
        "r_model2.add(LSTM(lstm_units)) #and here... we... go.\n",
        "r_model2.add(Dense(1, activation='sigmoid'))\n",
        "\n",
        "r_model2.compile(loss='binary_crossentropy',\n",
        "              optimizer='rmsprop',\n",
        "              metrics=['accuracy'])\n",
        "print(r_model2.summary())\n",
        "#even with TPU acceleration this takes a while"
      ],
      "execution_count": 0,
      "outputs": [
        {
          "output_type": "stream",
          "text": [
            "_________________________________________________________________\n",
            "Layer (type)                 Output Shape              Param #   \n",
            "=================================================================\n",
            "embedding_3 (Embedding)      (None, 80, 50)            500000    \n",
            "_________________________________________________________________\n",
            "dropout_2 (Dropout)          (None, 80, 50)            0         \n",
            "_________________________________________________________________\n",
            "lstm_2 (LSTM)                (None, 80, 32)            10624     \n",
            "_________________________________________________________________\n",
            "lstm_3 (LSTM)                (None, 32)                8320      \n",
            "_________________________________________________________________\n",
            "dense_3 (Dense)              (None, 1)                 33        \n",
            "=================================================================\n",
            "Total params: 518,977\n",
            "Trainable params: 518,977\n",
            "Non-trainable params: 0\n",
            "_________________________________________________________________\n",
            "None\n"
          ],
          "name": "stdout"
        }
      ]
    },
    {
      "metadata": {
        "id": "5SQr9HmZr_pT",
        "colab_type": "code",
        "outputId": "a3903c28-d070-4a07-fbcc-4bb7d6eb823a",
        "colab": {
          "base_uri": "https://localhost:8080/",
          "height": 208
        }
      },
      "cell_type": "code",
      "source": [
        "#training the stacked RNN\n",
        "r_history2 = r_model2.fit(x_train, y_train, batch_size=128,\n",
        "          epochs=epochs, \n",
        "          validation_split=validation_split)"
      ],
      "execution_count": 0,
      "outputs": [
        {
          "output_type": "stream",
          "text": [
            "Train on 20000 samples, validate on 5000 samples\n",
            "Epoch 1/5\n",
            "20000/20000 [==============================] - 54s 3ms/step - loss: 0.4868 - acc: 0.7552 - val_loss: 0.4297 - val_acc: 0.7994\n",
            "Epoch 2/5\n",
            "20000/20000 [==============================] - 53s 3ms/step - loss: 0.3289 - acc: 0.8636 - val_loss: 0.3665 - val_acc: 0.8360\n",
            "Epoch 3/5\n",
            "20000/20000 [==============================] - 53s 3ms/step - loss: 0.2792 - acc: 0.8877 - val_loss: 0.3591 - val_acc: 0.8420\n",
            "Epoch 4/5\n",
            "20000/20000 [==============================] - 54s 3ms/step - loss: 0.2484 - acc: 0.9018 - val_loss: 0.3657 - val_acc: 0.8354\n",
            "Epoch 5/5\n",
            "20000/20000 [==============================] - 53s 3ms/step - loss: 0.2285 - acc: 0.9116 - val_loss: 0.3889 - val_acc: 0.8366\n"
          ],
          "name": "stdout"
        }
      ]
    },
    {
      "metadata": {
        "id": "QRBpKRtPs2hC",
        "colab_type": "text"
      },
      "cell_type": "markdown",
      "source": [
        "Looks like stacking LSTM layers didn't have a very big effect on performance..."
      ]
    },
    {
      "metadata": {
        "id": "ESFXaOvys7mN",
        "colab_type": "code",
        "outputId": "4925dc57-d3b2-4fb6-9f7f-9dda15448793",
        "colab": {
          "base_uri": "https://localhost:8080/",
          "height": 453
        }
      },
      "cell_type": "code",
      "source": [
        "plt.clf()\n",
        "plt.figure(figsize=(5,3))\n",
        "plt.plot(r_history2.epoch,r_history2.history['loss'], label='training')\n",
        "plt.plot(r_history2.epoch,r_history2.history['val_loss'], label='validation')\n",
        "plt.title('loss')\n",
        "plt.legend(loc='best')\n",
        "\n",
        "plt.figure(figsize=(5,3))\n",
        "plt.plot(r_history2.epoch,r_history2.history['acc'], label='training')\n",
        "plt.plot(r_history2.epoch,r_history2.history['val_acc'], label='validation')\n",
        "plt.title('accuracy')\n",
        "plt.legend(loc='best');"
      ],
      "execution_count": 0,
      "outputs": [
        {
          "output_type": "display_data",
          "data": {
            "text/plain": [
              "<Figure size 576x396 with 0 Axes>"
            ]
          },
          "metadata": {
            "tags": []
          }
        },
        {
          "output_type": "display_data",
          "data": {
            "image/png": "[encoded data removed]",
            "text/plain": [
              "<Figure size 360x216 with 1 Axes>"
            ]
          },
          "metadata": {
            "tags": []
          }
        },
        {
          "output_type": "display_data",
          "data": {
            "image/png": "[encoded data removed]",
            "text/plain": [
              "<Figure size 360x216 with 1 Axes>"
            ]
          },
          "metadata": {
            "tags": []
          }
        }
      ]
    },
    {
      "metadata": {
        "id": "fMzahliWtWy-",
        "colab_type": "text"
      },
      "cell_type": "markdown",
      "source": [
        "Looks like 1 epoch is the best here... starts overfitting really fast. Probably should add more dropout layers after the RNNs."
      ]
    },
    {
      "metadata": {
        "id": "46RwkefDtf89",
        "colab_type": "code",
        "outputId": "a00328f2-da1b-49f8-af56-c1daa74ce1f1",
        "colab": {
          "base_uri": "https://localhost:8080/",
          "height": 124
        }
      },
      "cell_type": "code",
      "source": [
        "#Moving onward to the JENA climate dataset! It took a while to get this to work,\n",
        "#but I eventually had to settle on using my google drive instead of uploading the \n",
        "#file itself. If i uploaded the file, it would eventually go through, but whenever\n",
        "#I would go to open it, the runtime would crash. Using google drive seems to alleviate\n",
        "#that issue\n",
        "from google.colab import drive\n",
        "drive.mount('/content/gdrive')\n",
        "#need to have file locally downloaded... this takes a while!"
      ],
      "execution_count": 7,
      "outputs": [
        {
          "output_type": "stream",
          "text": [
            "Go to this URL in a browser: https://accounts.google.com/o/oauth2/auth?client_id=947318989803-6bn6qk8qdgf4n4g3pfee6491hc0brc4i.apps.googleusercontent.com&redirect_uri=urn%3Aietf%3Awg%3Aoauth%3A2.0%3Aoob&scope=email%20https%3A%2F%2Fwww.googleapis.com%2Fauth%2Fdocs.test%20https%3A%2F%2Fwww.googleapis.com%2Fauth%2Fdrive%20https%3A%2F%2Fwww.googleapis.com%2Fauth%2Fdrive.photos.readonly%20https%3A%2F%2Fwww.googleapis.com%2Fauth%2Fpeopleapi.readonly&response_type=code\n",
            "\n",
            "Enter your authorization code:\n",
            "··········\n",
            "Mounted at /content/gdrive\n"
          ],
          "name": "stdout"
        }
      ]
    },
    {
      "metadata": {
        "id": "Krs8HhCGw3Ab",
        "colab_type": "code",
        "colab": {}
      },
      "cell_type": "code",
      "source": [
        "f = open('/content/gdrive/My Drive/jena_climate_2009_2016.csv')"
      ],
      "execution_count": 0,
      "outputs": []
    },
    {
      "metadata": {
        "id": "yZKAPIOv0cgg",
        "colab_type": "code",
        "outputId": "a5a3956b-e5a4-4618-e7aa-8eccf81dd0a2",
        "colab": {
          "base_uri": "https://localhost:8080/",
          "height": 72
        }
      },
      "cell_type": "code",
      "source": [
        "data = f.read()\n",
        "f.close()\n",
        "lines = data.split('\\n')\n",
        "header = lines[0].split(',')\n",
        "lines = lines[1:]\n",
        "\n",
        "print(header)\n",
        "print(len(lines))"
      ],
      "execution_count": 9,
      "outputs": [
        {
          "output_type": "stream",
          "text": [
            "['\"Date Time\"', '\"p (mbar)\"', '\"T (degC)\"', '\"Tpot (K)\"', '\"Tdew (degC)\"', '\"rh (%)\"', '\"VPmax (mbar)\"', '\"VPact (mbar)\"', '\"VPdef (mbar)\"', '\"sh (g/kg)\"', '\"H2OC (mmol/mol)\"', '\"rho (g/m**3)\"', '\"wv (m/s)\"', '\"max. wv (m/s)\"', '\"wd (deg)\"']\n",
            "420551\n"
          ],
          "name": "stdout"
        }
      ]
    },
    {
      "metadata": {
        "id": "nbuMIZW26NFW",
        "colab_type": "code",
        "colab": {}
      },
      "cell_type": "code",
      "source": [
        "import numpy as np\n",
        "#create those 420000 or so lines into a numpy array\n",
        "float_data = np.zeros((len(lines), len(header) - 1))\n",
        "for i, line in enumerate(lines):\n",
        "    values = [float(x) for x in line.split(',')[1:]]\n",
        "    float_data[i, :] = values"
      ],
      "execution_count": 0,
      "outputs": []
    },
    {
      "metadata": {
        "id": "h75XoVXp6ixO",
        "colab_type": "code",
        "colab": {}
      },
      "cell_type": "code",
      "source": [
        "#this cell normalizes (standardizes?) the data and creates variables\n",
        "lookback = 720 # 5 days\n",
        "steps = 6 # sampling 1 point per hour\n",
        "delay = 144 # predicting 24 hours in the future\n",
        "mean = float_data[:200000].mean(axis=0)\n",
        "float_data -= mean\n",
        "std = float_data[:200000].std(axis=0)\n",
        "float_data /= std"
      ],
      "execution_count": 0,
      "outputs": []
    },
    {
      "metadata": {
        "id": "HDx8iqDp7mCW",
        "colab_type": "text"
      },
      "cell_type": "markdown",
      "source": [
        "My lack of compsci knowledge is showing in the next block. There are a few keywords that I don't know what they do, like yield. Apparently its like return, only it returns a generator instead of whatever it is that return returns. The rest of it seems to make sense, but I don't have the programming chops to write something like this from scratch. As an aside, I've never used numpy.randint before (this is my first time seeing it) but its pretty easy to guess what it does."
      ]
    },
    {
      "metadata": {
        "id": "UbeD069u7cnK",
        "colab_type": "code",
        "colab": {}
      },
      "cell_type": "code",
      "source": [
        "def generator(data, lookback, delay, min_index, max_index,\n",
        "              shuffle=False, batch_size=128, step=6):\n",
        "    if max_index is None:\n",
        "        max_index = len(data) - delay - 1\n",
        "    i = min_index + lookback\n",
        "    while 1:\n",
        "        if shuffle:\n",
        "            rows = np.random.randint(\n",
        "                min_index + lookback, max_index, size=batch_size)\n",
        "        else:\n",
        "            if i + batch_size >= max_index:\n",
        "                i = min_index + lookback\n",
        "            rows = np.arange(i, min(i + batch_size, max_index))\n",
        "            i += len(rows)\n",
        "\n",
        "        samples = np.zeros((len(rows),\n",
        "                           lookback // step,\n",
        "                           data.shape[-1]))\n",
        "        targets = np.zeros((len(rows),))\n",
        "        for j, row in enumerate(rows):\n",
        "            indices = range(rows[j] - lookback, rows[j], step)\n",
        "            samples[j] = data[indices]\n",
        "            targets[j] = data[rows[j] + delay][1]\n",
        "        yield samples, targets"
      ],
      "execution_count": 0,
      "outputs": []
    },
    {
      "metadata": {
        "id": "HVF1q8FB6uJG",
        "colab_type": "code",
        "colab": {}
      },
      "cell_type": "code",
      "source": [
        "#this block is essentially our train/validation/test split.\n",
        "lookback = 1440\n",
        "step = 6\n",
        "delay = 144\n",
        "batch_size = 128\n",
        "\n",
        "train_gen = generator(float_data,\n",
        "                      lookback=lookback,\n",
        "                      delay=delay,\n",
        "                      min_index=0,\n",
        "                      max_index=200000,\n",
        "                      shuffle=True,\n",
        "                      step=step, \n",
        "                      batch_size=batch_size)\n",
        "val_gen = generator(float_data,\n",
        "                    lookback=lookback,\n",
        "                    delay=delay,\n",
        "                    min_index=200001,\n",
        "                    max_index=300000,\n",
        "                    step=step,\n",
        "                    batch_size=batch_size)\n",
        "test_gen = generator(float_data,\n",
        "                     lookback=lookback,\n",
        "                     delay=delay,\n",
        "                     min_index=300001,\n",
        "                     max_index=None,\n",
        "                     step=step,\n",
        "                     batch_size=batch_size)\n",
        "\n",
        "\n",
        "val_steps = (300000 - 200001 - lookback) // batch_size\n",
        "\n",
        "\n",
        "test_steps = (len(float_data) - 300001 - lookback) // batch_size"
      ],
      "execution_count": 0,
      "outputs": []
    },
    {
      "metadata": {
        "id": "n0LOjpOV9WXN",
        "colab_type": "code",
        "outputId": "862217cc-19c5-433e-80f8-b320a6b8acd3",
        "colab": {
          "base_uri": "https://localhost:8080/",
          "height": 35
        }
      },
      "cell_type": "code",
      "source": [
        "#adding baseline because its there so why not\n",
        "def evaluate_naive_method():\n",
        "    batch_maes = []\n",
        "    for step in range(val_steps):\n",
        "        samples, targets = next(val_gen)\n",
        "        preds = samples[:, -1, 1]\n",
        "        mae = np.mean(np.abs(preds - targets))\n",
        "        batch_maes.append(mae)\n",
        "    print(np.mean(batch_maes))\n",
        "    \n",
        "evaluate_naive_method()"
      ],
      "execution_count": 11,
      "outputs": [
        {
          "output_type": "stream",
          "text": [
            "0.28973597299053566\n"
          ],
          "name": "stdout"
        }
      ]
    },
    {
      "metadata": {
        "id": "sTXBWCD192gj",
        "colab_type": "code",
        "outputId": "19aa88a0-1611-487a-ff1f-9dd651208fe5",
        "colab": {
          "base_uri": "https://localhost:8080/",
          "height": 1573
        }
      },
      "cell_type": "code",
      "source": [
        "#simple machine learning approach\n",
        "from keras.models import Sequential\n",
        "from keras import layers\n",
        "from keras.optimizers import RMSprop\n",
        "\n",
        "model = Sequential()\n",
        "model.add(layers.Flatten(input_shape=(lookback // step, float_data.shape[-1])))\n",
        "model.add(layers.Dense(32, activation='relu'))\n",
        "model.add(layers.Dense(1))\n",
        "\n",
        "model.compile(optimizer=RMSprop(), loss='mae')\n",
        "history = model.fit_generator(train_gen,steps_per_epoch=500,epochs=20,validation_data=val_gen,  validation_steps=val_steps)"
      ],
      "execution_count": 0,
      "outputs": [
        {
          "output_type": "stream",
          "text": [
            "Epoch 1/20\n",
            "500/500 [==============================] - 14s 28ms/step - loss: 1.4619 - val_loss: 0.6840\n",
            "Epoch 2/20\n",
            "500/500 [==============================] - 14s 28ms/step - loss: 0.4792 - val_loss: 0.4415\n",
            "Epoch 3/20\n",
            "500/500 [==============================] - 14s 28ms/step - loss: 0.3071 - val_loss: 0.3026\n",
            "Epoch 4/20\n",
            "500/500 [==============================] - 14s 27ms/step - loss: 0.2702 - val_loss: 0.3893\n",
            "Epoch 5/20\n",
            "500/500 [==============================] - 14s 27ms/step - loss: 0.2563 - val_loss: 0.3201\n",
            "Epoch 6/20\n",
            "500/500 [==============================] - 14s 27ms/step - loss: 0.2470 - val_loss: 0.3234\n",
            "Epoch 7/20\n",
            "500/500 [==============================] - 14s 27ms/step - loss: 0.2409 - val_loss: 0.3135\n",
            "Epoch 8/20\n",
            "500/500 [==============================] - 14s 27ms/step - loss: 0.2336 - val_loss: 0.3218\n",
            "Epoch 9/20\n",
            "500/500 [==============================] - 13s 27ms/step - loss: 0.2283 - val_loss: 0.3385\n",
            "Epoch 10/20\n",
            "500/500 [==============================] - 14s 27ms/step - loss: 0.2244 - val_loss: 0.3215\n",
            "Epoch 11/20\n",
            "194/500 [==========>...................] - ETA: 4s - loss: 0.2229"
          ],
          "name": "stdout"
        },
        {
          "output_type": "error",
          "ename": "KeyboardInterrupt",
          "evalue": "ignored",
          "traceback": [
            "\u001b[0;31m---------------------------------------------------------------------------\u001b[0m",
            "\u001b[0;31mKeyboardInterrupt\u001b[0m                         Traceback (most recent call last)",
            "\u001b[0;32m<ipython-input-24-5f4ea6d5ae06>\u001b[0m in \u001b[0;36m<module>\u001b[0;34m()\u001b[0m\n\u001b[1;32m     13\u001b[0m                               \u001b[0mepochs\u001b[0m\u001b[0;34m=\u001b[0m\u001b[0;36m20\u001b[0m\u001b[0;34m,\u001b[0m\u001b[0;34m\u001b[0m\u001b[0;34m\u001b[0m\u001b[0m\n\u001b[1;32m     14\u001b[0m                               \u001b[0mvalidation_data\u001b[0m\u001b[0;34m=\u001b[0m\u001b[0mval_gen\u001b[0m\u001b[0;34m,\u001b[0m\u001b[0;34m\u001b[0m\u001b[0;34m\u001b[0m\u001b[0m\n\u001b[0;32m---> 15\u001b[0;31m                               validation_steps=val_steps)\n\u001b[0m",
            "\u001b[0;32m/usr/local/lib/python3.6/dist-packages/keras/legacy/interfaces.py\u001b[0m in \u001b[0;36mwrapper\u001b[0;34m(*args, **kwargs)\u001b[0m\n\u001b[1;32m     89\u001b[0m                 warnings.warn('Update your `' + object_name + '` call to the ' +\n\u001b[1;32m     90\u001b[0m                               'Keras 2 API: ' + signature, stacklevel=2)\n\u001b[0;32m---> 91\u001b[0;31m             \u001b[0;32mreturn\u001b[0m \u001b[0mfunc\u001b[0m\u001b[0;34m(\u001b[0m\u001b[0;34m*\u001b[0m\u001b[0margs\u001b[0m\u001b[0;34m,\u001b[0m \u001b[0;34m**\u001b[0m\u001b[0mkwargs\u001b[0m\u001b[0;34m)\u001b[0m\u001b[0;34m\u001b[0m\u001b[0;34m\u001b[0m\u001b[0m\n\u001b[0m\u001b[1;32m     92\u001b[0m         \u001b[0mwrapper\u001b[0m\u001b[0;34m.\u001b[0m\u001b[0m_original_function\u001b[0m \u001b[0;34m=\u001b[0m \u001b[0mfunc\u001b[0m\u001b[0;34m\u001b[0m\u001b[0;34m\u001b[0m\u001b[0m\n\u001b[1;32m     93\u001b[0m         \u001b[0;32mreturn\u001b[0m \u001b[0mwrapper\u001b[0m\u001b[0;34m\u001b[0m\u001b[0;34m\u001b[0m\u001b[0m\n",
            "\u001b[0;32m/usr/local/lib/python3.6/dist-packages/keras/engine/training.py\u001b[0m in \u001b[0;36mfit_generator\u001b[0;34m(self, generator, steps_per_epoch, epochs, verbose, callbacks, validation_data, validation_steps, class_weight, max_queue_size, workers, use_multiprocessing, shuffle, initial_epoch)\u001b[0m\n\u001b[1;32m   1416\u001b[0m             \u001b[0muse_multiprocessing\u001b[0m\u001b[0;34m=\u001b[0m\u001b[0muse_multiprocessing\u001b[0m\u001b[0;34m,\u001b[0m\u001b[0;34m\u001b[0m\u001b[0;34m\u001b[0m\u001b[0m\n\u001b[1;32m   1417\u001b[0m             \u001b[0mshuffle\u001b[0m\u001b[0;34m=\u001b[0m\u001b[0mshuffle\u001b[0m\u001b[0;34m,\u001b[0m\u001b[0;34m\u001b[0m\u001b[0;34m\u001b[0m\u001b[0m\n\u001b[0;32m-> 1418\u001b[0;31m             initial_epoch=initial_epoch)\n\u001b[0m\u001b[1;32m   1419\u001b[0m \u001b[0;34m\u001b[0m\u001b[0m\n\u001b[1;32m   1420\u001b[0m     \u001b[0;34m@\u001b[0m\u001b[0minterfaces\u001b[0m\u001b[0;34m.\u001b[0m\u001b[0mlegacy_generator_methods_support\u001b[0m\u001b[0;34m\u001b[0m\u001b[0;34m\u001b[0m\u001b[0m\n",
            "\u001b[0;32m/usr/local/lib/python3.6/dist-packages/keras/engine/training_generator.py\u001b[0m in \u001b[0;36mfit_generator\u001b[0;34m(model, generator, steps_per_epoch, epochs, verbose, callbacks, validation_data, validation_steps, class_weight, max_queue_size, workers, use_multiprocessing, shuffle, initial_epoch)\u001b[0m\n\u001b[1;32m    179\u001b[0m             \u001b[0mbatch_index\u001b[0m \u001b[0;34m=\u001b[0m \u001b[0;36m0\u001b[0m\u001b[0;34m\u001b[0m\u001b[0;34m\u001b[0m\u001b[0m\n\u001b[1;32m    180\u001b[0m             \u001b[0;32mwhile\u001b[0m \u001b[0msteps_done\u001b[0m \u001b[0;34m<\u001b[0m \u001b[0msteps_per_epoch\u001b[0m\u001b[0;34m:\u001b[0m\u001b[0;34m\u001b[0m\u001b[0;34m\u001b[0m\u001b[0m\n\u001b[0;32m--> 181\u001b[0;31m                 \u001b[0mgenerator_output\u001b[0m \u001b[0;34m=\u001b[0m \u001b[0mnext\u001b[0m\u001b[0;34m(\u001b[0m\u001b[0moutput_generator\u001b[0m\u001b[0;34m)\u001b[0m\u001b[0;34m\u001b[0m\u001b[0;34m\u001b[0m\u001b[0m\n\u001b[0m\u001b[1;32m    182\u001b[0m \u001b[0;34m\u001b[0m\u001b[0m\n\u001b[1;32m    183\u001b[0m                 \u001b[0;32mif\u001b[0m \u001b[0;32mnot\u001b[0m \u001b[0mhasattr\u001b[0m\u001b[0;34m(\u001b[0m\u001b[0mgenerator_output\u001b[0m\u001b[0;34m,\u001b[0m \u001b[0;34m'__len__'\u001b[0m\u001b[0;34m)\u001b[0m\u001b[0;34m:\u001b[0m\u001b[0;34m\u001b[0m\u001b[0;34m\u001b[0m\u001b[0m\n",
            "\u001b[0;32m/usr/local/lib/python3.6/dist-packages/keras/utils/data_utils.py\u001b[0m in \u001b[0;36mget\u001b[0;34m(self)\u001b[0m\n\u001b[1;32m    683\u001b[0m         \u001b[0;32mtry\u001b[0m\u001b[0;34m:\u001b[0m\u001b[0;34m\u001b[0m\u001b[0;34m\u001b[0m\u001b[0m\n\u001b[1;32m    684\u001b[0m             \u001b[0;32mwhile\u001b[0m \u001b[0mself\u001b[0m\u001b[0;34m.\u001b[0m\u001b[0mis_running\u001b[0m\u001b[0;34m(\u001b[0m\u001b[0;34m)\u001b[0m\u001b[0;34m:\u001b[0m\u001b[0;34m\u001b[0m\u001b[0;34m\u001b[0m\u001b[0m\n\u001b[0;32m--> 685\u001b[0;31m                 \u001b[0minputs\u001b[0m \u001b[0;34m=\u001b[0m \u001b[0mself\u001b[0m\u001b[0;34m.\u001b[0m\u001b[0mqueue\u001b[0m\u001b[0;34m.\u001b[0m\u001b[0mget\u001b[0m\u001b[0;34m(\u001b[0m\u001b[0mblock\u001b[0m\u001b[0;34m=\u001b[0m\u001b[0;32mTrue\u001b[0m\u001b[0;34m)\u001b[0m\u001b[0;34m.\u001b[0m\u001b[0mget\u001b[0m\u001b[0;34m(\u001b[0m\u001b[0;34m)\u001b[0m\u001b[0;34m\u001b[0m\u001b[0;34m\u001b[0m\u001b[0m\n\u001b[0m\u001b[1;32m    686\u001b[0m                 \u001b[0mself\u001b[0m\u001b[0;34m.\u001b[0m\u001b[0mqueue\u001b[0m\u001b[0;34m.\u001b[0m\u001b[0mtask_done\u001b[0m\u001b[0;34m(\u001b[0m\u001b[0;34m)\u001b[0m\u001b[0;34m\u001b[0m\u001b[0;34m\u001b[0m\u001b[0m\n\u001b[1;32m    687\u001b[0m                 \u001b[0;32mif\u001b[0m \u001b[0minputs\u001b[0m \u001b[0;32mis\u001b[0m \u001b[0;32mnot\u001b[0m \u001b[0;32mNone\u001b[0m\u001b[0;34m:\u001b[0m\u001b[0;34m\u001b[0m\u001b[0;34m\u001b[0m\u001b[0m\n",
            "\u001b[0;32m/usr/lib/python3.6/multiprocessing/pool.py\u001b[0m in \u001b[0;36mget\u001b[0;34m(self, timeout)\u001b[0m\n\u001b[1;32m    662\u001b[0m \u001b[0;34m\u001b[0m\u001b[0m\n\u001b[1;32m    663\u001b[0m     \u001b[0;32mdef\u001b[0m \u001b[0mget\u001b[0m\u001b[0;34m(\u001b[0m\u001b[0mself\u001b[0m\u001b[0;34m,\u001b[0m \u001b[0mtimeout\u001b[0m\u001b[0;34m=\u001b[0m\u001b[0;32mNone\u001b[0m\u001b[0;34m)\u001b[0m\u001b[0;34m:\u001b[0m\u001b[0;34m\u001b[0m\u001b[0;34m\u001b[0m\u001b[0m\n\u001b[0;32m--> 664\u001b[0;31m         \u001b[0mself\u001b[0m\u001b[0;34m.\u001b[0m\u001b[0mwait\u001b[0m\u001b[0;34m(\u001b[0m\u001b[0mtimeout\u001b[0m\u001b[0;34m)\u001b[0m\u001b[0;34m\u001b[0m\u001b[0;34m\u001b[0m\u001b[0m\n\u001b[0m\u001b[1;32m    665\u001b[0m         \u001b[0;32mif\u001b[0m \u001b[0;32mnot\u001b[0m \u001b[0mself\u001b[0m\u001b[0;34m.\u001b[0m\u001b[0mready\u001b[0m\u001b[0;34m(\u001b[0m\u001b[0;34m)\u001b[0m\u001b[0;34m:\u001b[0m\u001b[0;34m\u001b[0m\u001b[0;34m\u001b[0m\u001b[0m\n\u001b[1;32m    666\u001b[0m             \u001b[0;32mraise\u001b[0m \u001b[0mTimeoutError\u001b[0m\u001b[0;34m\u001b[0m\u001b[0;34m\u001b[0m\u001b[0m\n",
            "\u001b[0;32m/usr/lib/python3.6/multiprocessing/pool.py\u001b[0m in \u001b[0;36mwait\u001b[0;34m(self, timeout)\u001b[0m\n\u001b[1;32m    659\u001b[0m \u001b[0;34m\u001b[0m\u001b[0m\n\u001b[1;32m    660\u001b[0m     \u001b[0;32mdef\u001b[0m \u001b[0mwait\u001b[0m\u001b[0;34m(\u001b[0m\u001b[0mself\u001b[0m\u001b[0;34m,\u001b[0m \u001b[0mtimeout\u001b[0m\u001b[0;34m=\u001b[0m\u001b[0;32mNone\u001b[0m\u001b[0;34m)\u001b[0m\u001b[0;34m:\u001b[0m\u001b[0;34m\u001b[0m\u001b[0;34m\u001b[0m\u001b[0m\n\u001b[0;32m--> 661\u001b[0;31m         \u001b[0mself\u001b[0m\u001b[0;34m.\u001b[0m\u001b[0m_event\u001b[0m\u001b[0;34m.\u001b[0m\u001b[0mwait\u001b[0m\u001b[0;34m(\u001b[0m\u001b[0mtimeout\u001b[0m\u001b[0;34m)\u001b[0m\u001b[0;34m\u001b[0m\u001b[0;34m\u001b[0m\u001b[0m\n\u001b[0m\u001b[1;32m    662\u001b[0m \u001b[0;34m\u001b[0m\u001b[0m\n\u001b[1;32m    663\u001b[0m     \u001b[0;32mdef\u001b[0m \u001b[0mget\u001b[0m\u001b[0;34m(\u001b[0m\u001b[0mself\u001b[0m\u001b[0;34m,\u001b[0m \u001b[0mtimeout\u001b[0m\u001b[0;34m=\u001b[0m\u001b[0;32mNone\u001b[0m\u001b[0;34m)\u001b[0m\u001b[0;34m:\u001b[0m\u001b[0;34m\u001b[0m\u001b[0;34m\u001b[0m\u001b[0m\n",
            "\u001b[0;32m/usr/lib/python3.6/threading.py\u001b[0m in \u001b[0;36mwait\u001b[0;34m(self, timeout)\u001b[0m\n\u001b[1;32m    549\u001b[0m             \u001b[0msignaled\u001b[0m \u001b[0;34m=\u001b[0m \u001b[0mself\u001b[0m\u001b[0;34m.\u001b[0m\u001b[0m_flag\u001b[0m\u001b[0;34m\u001b[0m\u001b[0;34m\u001b[0m\u001b[0m\n\u001b[1;32m    550\u001b[0m             \u001b[0;32mif\u001b[0m \u001b[0;32mnot\u001b[0m \u001b[0msignaled\u001b[0m\u001b[0;34m:\u001b[0m\u001b[0;34m\u001b[0m\u001b[0;34m\u001b[0m\u001b[0m\n\u001b[0;32m--> 551\u001b[0;31m                 \u001b[0msignaled\u001b[0m \u001b[0;34m=\u001b[0m \u001b[0mself\u001b[0m\u001b[0;34m.\u001b[0m\u001b[0m_cond\u001b[0m\u001b[0;34m.\u001b[0m\u001b[0mwait\u001b[0m\u001b[0;34m(\u001b[0m\u001b[0mtimeout\u001b[0m\u001b[0;34m)\u001b[0m\u001b[0;34m\u001b[0m\u001b[0;34m\u001b[0m\u001b[0m\n\u001b[0m\u001b[1;32m    552\u001b[0m             \u001b[0;32mreturn\u001b[0m \u001b[0msignaled\u001b[0m\u001b[0;34m\u001b[0m\u001b[0;34m\u001b[0m\u001b[0m\n\u001b[1;32m    553\u001b[0m \u001b[0;34m\u001b[0m\u001b[0m\n",
            "\u001b[0;32m/usr/lib/python3.6/threading.py\u001b[0m in \u001b[0;36mwait\u001b[0;34m(self, timeout)\u001b[0m\n\u001b[1;32m    293\u001b[0m         \u001b[0;32mtry\u001b[0m\u001b[0;34m:\u001b[0m    \u001b[0;31m# restore state no matter what (e.g., KeyboardInterrupt)\u001b[0m\u001b[0;34m\u001b[0m\u001b[0;34m\u001b[0m\u001b[0m\n\u001b[1;32m    294\u001b[0m             \u001b[0;32mif\u001b[0m \u001b[0mtimeout\u001b[0m \u001b[0;32mis\u001b[0m \u001b[0;32mNone\u001b[0m\u001b[0;34m:\u001b[0m\u001b[0;34m\u001b[0m\u001b[0;34m\u001b[0m\u001b[0m\n\u001b[0;32m--> 295\u001b[0;31m                 \u001b[0mwaiter\u001b[0m\u001b[0;34m.\u001b[0m\u001b[0macquire\u001b[0m\u001b[0;34m(\u001b[0m\u001b[0;34m)\u001b[0m\u001b[0;34m\u001b[0m\u001b[0;34m\u001b[0m\u001b[0m\n\u001b[0m\u001b[1;32m    296\u001b[0m                 \u001b[0mgotit\u001b[0m \u001b[0;34m=\u001b[0m \u001b[0;32mTrue\u001b[0m\u001b[0;34m\u001b[0m\u001b[0;34m\u001b[0m\u001b[0m\n\u001b[1;32m    297\u001b[0m             \u001b[0;32melse\u001b[0m\u001b[0;34m:\u001b[0m\u001b[0;34m\u001b[0m\u001b[0;34m\u001b[0m\u001b[0m\n",
            "\u001b[0;31mKeyboardInterrupt\u001b[0m: "
          ]
        }
      ]
    },
    {
      "metadata": {
        "id": "i9-DRX0Q-3vU",
        "colab_type": "text"
      },
      "cell_type": "markdown",
      "source": [
        "I stopped the last model because it was taking a while and looked like it started overfitting very early."
      ]
    },
    {
      "metadata": {
        "id": "vEeNuF4i-_TU",
        "colab_type": "code",
        "outputId": "4b01dc13-db59-4796-8920-5ad00ba48acc",
        "colab": {
          "base_uri": "https://localhost:8080/",
          "height": 225
        }
      },
      "cell_type": "code",
      "source": [
        "#now we are doing our first recurrent version\n",
        "\n",
        "model = Sequential()\n",
        "model.add(layers.GRU(32, input_shape=(None, float_data.shape[-1])))\n",
        "model.add(layers.Dense(1))\n",
        "\n",
        "model.compile(optimizer=RMSprop(), loss='mae')\n",
        "history = model.fit_generator(train_gen, steps_per_epoch=500,epochs=6,validation_data=val_gen,validation_steps=val_steps)"
      ],
      "execution_count": 0,
      "outputs": [
        {
          "output_type": "stream",
          "text": [
            "Epoch 1/6\n",
            "500/500 [==============================] - 203s 406ms/step - loss: 0.3052 - val_loss: 0.2703\n",
            "Epoch 2/6\n",
            "500/500 [==============================] - 200s 399ms/step - loss: 0.2861 - val_loss: 0.2737\n",
            "Epoch 3/6\n",
            "500/500 [==============================] - 200s 400ms/step - loss: 0.2807 - val_loss: 0.2647\n",
            "Epoch 4/6\n",
            "500/500 [==============================] - 199s 398ms/step - loss: 0.2746 - val_loss: 0.2706\n",
            "Epoch 5/6\n",
            "500/500 [==============================] - 199s 398ms/step - loss: 0.2693 - val_loss: 0.2670\n",
            "Epoch 6/6\n",
            "500/500 [==============================] - 198s 397ms/step - loss: 0.2623 - val_loss: 0.2701\n"
          ],
          "name": "stdout"
        }
      ]
    },
    {
      "metadata": {
        "id": "PhlD8eBJD6kC",
        "colab_type": "text"
      },
      "cell_type": "markdown",
      "source": [
        "Wow. Even a mere 6 epochs took like half an hour to train."
      ]
    },
    {
      "metadata": {
        "id": "MqXK4lm0EAN0",
        "colab_type": "code",
        "outputId": "fb460b64-c16a-40b3-8da7-87a4ed6cce97",
        "colab": {
          "base_uri": "https://localhost:8080/",
          "height": 363
        }
      },
      "cell_type": "code",
      "source": [
        "loss = history.history['loss']\n",
        "val_loss = history.history['val_loss']\n",
        "\n",
        "epochs = range(len(loss))\n",
        "\n",
        "plt.figure()\n",
        "\n",
        "plt.plot(epochs, loss, 'bo', label='Training loss')\n",
        "plt.plot(epochs, val_loss, 'b', label='Validation loss')\n",
        "plt.title('Training and validation loss')\n",
        "plt.legend()\n",
        "\n",
        "plt.show()"
      ],
      "execution_count": 0,
      "outputs": [
        {
          "output_type": "display_data",
          "data": {
            "image/png": "[encoded data removed]",
            "text/plain": [
              "<Figure size 576x396 with 1 Axes>"
            ]
          },
          "metadata": {
            "tags": []
          }
        }
      ]
    },
    {
      "metadata": {
        "id": "SIHJV1LLVZZv",
        "colab_type": "text"
      },
      "cell_type": "markdown",
      "source": [
        "You can see it starts to overfit after 6 epochs."
      ]
    },
    {
      "metadata": {
        "id": "_m1_aJgPES_w",
        "colab_type": "code",
        "outputId": "1e68fba9-b831-4860-c28d-c6fa8a07397e",
        "colab": {
          "base_uri": "https://localhost:8080/",
          "height": 1404
        }
      },
      "cell_type": "code",
      "source": [
        "#A lot of epochs, a lot of time, and recurrent dropout.\n",
        "model = Sequential()\n",
        "model.add(layers.GRU(32,dropout=0.2,recurrent_dropout=0.2,input_shape=(None, float_data.shape[-1])))\n",
        "model.add(layers.Dense(1))\n",
        "\n",
        "model.compile(optimizer=RMSprop(), loss='mae')\n",
        "history = model.fit_generator(train_gen,steps_per_epoch=500,epochs=40,validation_data=val_gen,validation_steps=val_steps)"
      ],
      "execution_count": 0,
      "outputs": [
        {
          "output_type": "stream",
          "text": [
            "Epoch 1/40\n",
            "500/500 [==============================] - 229s 459ms/step - loss: 0.3394 - val_loss: 0.2741\n",
            "Epoch 2/40\n",
            "500/500 [==============================] - 226s 452ms/step - loss: 0.3143 - val_loss: 0.2715\n",
            "Epoch 3/40\n",
            "500/500 [==============================] - 225s 451ms/step - loss: 0.3101 - val_loss: 0.2734\n",
            "Epoch 4/40\n",
            "500/500 [==============================] - 225s 450ms/step - loss: 0.3046 - val_loss: 0.2728\n",
            "Epoch 5/40\n",
            "500/500 [==============================] - 225s 450ms/step - loss: 0.3029 - val_loss: 0.2665\n",
            "Epoch 6/40\n",
            "500/500 [==============================] - 225s 450ms/step - loss: 0.2996 - val_loss: 0.2641\n",
            "Epoch 7/40\n",
            "500/500 [==============================] - 225s 449ms/step - loss: 0.2974 - val_loss: 0.2691\n",
            "Epoch 8/40\n",
            "500/500 [==============================] - 224s 449ms/step - loss: 0.2957 - val_loss: 0.2657\n",
            "Epoch 9/40\n",
            "500/500 [==============================] - 224s 448ms/step - loss: 0.2943 - val_loss: 0.2651\n",
            "Epoch 10/40\n",
            "500/500 [==============================] - 222s 445ms/step - loss: 0.2932 - val_loss: 0.2640\n",
            "Epoch 11/40\n",
            "500/500 [==============================] - 222s 445ms/step - loss: 0.2890 - val_loss: 0.2702\n",
            "Epoch 12/40\n",
            "500/500 [==============================] - 222s 444ms/step - loss: 0.2902 - val_loss: 0.2637\n",
            "Epoch 13/40\n",
            "500/500 [==============================] - 225s 450ms/step - loss: 0.2883 - val_loss: 0.2677\n",
            "Epoch 14/40\n",
            "500/500 [==============================] - 227s 454ms/step - loss: 0.2873 - val_loss: 0.2619\n",
            "Epoch 15/40\n",
            "500/500 [==============================] - 227s 453ms/step - loss: 0.2842 - val_loss: 0.2699\n",
            "Epoch 16/40\n",
            "500/500 [==============================] - 226s 452ms/step - loss: 0.2843 - val_loss: 0.2606\n",
            "Epoch 17/40\n",
            "500/500 [==============================] - 227s 455ms/step - loss: 0.2837 - val_loss: 0.2639\n",
            "Epoch 18/40\n",
            "500/500 [==============================] - 227s 453ms/step - loss: 0.2830 - val_loss: 0.2621\n",
            "Epoch 19/40\n",
            "500/500 [==============================] - 227s 454ms/step - loss: 0.2816 - val_loss: 0.2616\n",
            "Epoch 20/40\n",
            "500/500 [==============================] - 227s 454ms/step - loss: 0.2814 - val_loss: 0.2640\n",
            "Epoch 21/40\n",
            "500/500 [==============================] - 230s 460ms/step - loss: 0.2802 - val_loss: 0.2645\n",
            "Epoch 22/40\n",
            "500/500 [==============================] - 228s 456ms/step - loss: 0.2788 - val_loss: 0.2644\n",
            "Epoch 23/40\n",
            "500/500 [==============================] - 227s 455ms/step - loss: 0.2785 - val_loss: 0.2653\n",
            "Epoch 24/40\n",
            "500/500 [==============================] - 230s 460ms/step - loss: 0.2779 - val_loss: 0.2615\n",
            "Epoch 25/40\n",
            "500/500 [==============================] - 229s 458ms/step - loss: 0.2756 - val_loss: 0.2639\n",
            "Epoch 26/40\n",
            "500/500 [==============================] - 229s 458ms/step - loss: 0.2771 - val_loss: 0.2684\n",
            "Epoch 27/40\n",
            "500/500 [==============================] - 229s 457ms/step - loss: 0.2758 - val_loss: 0.2662\n",
            "Epoch 28/40\n",
            "500/500 [==============================] - 229s 458ms/step - loss: 0.2741 - val_loss: 0.2653\n",
            "Epoch 29/40\n",
            "500/500 [==============================] - 229s 458ms/step - loss: 0.2750 - val_loss: 0.2667\n",
            "Epoch 30/40\n",
            "500/500 [==============================] - 228s 457ms/step - loss: 0.2736 - val_loss: 0.2666\n",
            "Epoch 31/40\n",
            "500/500 [==============================] - 228s 457ms/step - loss: 0.2730 - val_loss: 0.2608\n",
            "Epoch 32/40\n",
            "500/500 [==============================] - 228s 456ms/step - loss: 0.2715 - val_loss: 0.2671\n",
            "Epoch 33/40\n",
            "500/500 [==============================] - 228s 457ms/step - loss: 0.2718 - val_loss: 0.2701\n",
            "Epoch 34/40\n",
            "500/500 [==============================] - 229s 458ms/step - loss: 0.2699 - val_loss: 0.2625\n",
            "Epoch 35/40\n",
            "500/500 [==============================] - 228s 457ms/step - loss: 0.2700 - val_loss: 0.2627\n",
            "Epoch 36/40\n",
            "500/500 [==============================] - 229s 458ms/step - loss: 0.2713 - val_loss: 0.2670\n",
            "Epoch 37/40\n",
            "500/500 [==============================] - 230s 459ms/step - loss: 0.2693 - val_loss: 0.2636\n",
            "Epoch 38/40\n",
            "500/500 [==============================] - 229s 457ms/step - loss: 0.2693 - val_loss: 0.2627\n",
            "Epoch 39/40\n",
            "500/500 [==============================] - 229s 458ms/step - loss: 0.2687 - val_loss: 0.2666\n",
            "Epoch 40/40\n",
            "500/500 [==============================] - 228s 456ms/step - loss: 0.2686 - val_loss: 0.2651\n"
          ],
          "name": "stdout"
        }
      ]
    },
    {
      "metadata": {
        "id": "_ZjHiFvknnfP",
        "colab_type": "text"
      },
      "cell_type": "markdown",
      "source": [
        "I was using a GPU instance instead of a TPU instance, but it still took like 3 hours..."
      ]
    },
    {
      "metadata": {
        "id": "9HepGuIAneyC",
        "colab_type": "code",
        "outputId": "709e1583-7794-4eb5-d2ed-388e61b0945f",
        "colab": {
          "base_uri": "https://localhost:8080/",
          "height": 588
        }
      },
      "cell_type": "code",
      "source": [
        "loss = history.history['loss']\n",
        "val_loss = history.history['val_loss']\n",
        "\n",
        "epochs = range(len(loss))\n",
        "\n",
        "plt.figure()\n",
        "\n",
        "plt.plot(epochs, loss, 'bo', label='Training loss')\n",
        "plt.plot(epochs, val_loss, 'b', label='Validation loss')\n",
        "plt.title('Training and validation loss')\n",
        "plt.legend()\n",
        "\n",
        "plt.show()\n",
        "#Yep, doesn't look like overfitting is as much of a problem. Global minumum looks\n",
        "#like 15 epochs though.\n",
        "model.summary() #the summary was added and run after the next block.\n",
        "#It was taking forever and wanted to double check if I was using the correct architecture."
      ],
      "execution_count": 0,
      "outputs": [
        {
          "output_type": "display_data",
          "data": {
            "image/png": "[encoded data removed]",
            "text/plain": [
              "<Figure size 576x396 with 1 Axes>"
            ]
          },
          "metadata": {
            "tags": []
          }
        },
        {
          "output_type": "stream",
          "text": [
            "_________________________________________________________________\n",
            "Layer (type)                 Output Shape              Param #   \n",
            "=================================================================\n",
            "gru_3 (GRU)                  (None, None, 32)          4512      \n",
            "_________________________________________________________________\n",
            "gru_4 (GRU)                  (None, 64)                18624     \n",
            "_________________________________________________________________\n",
            "dense_8 (Dense)              (None, 1)                 65        \n",
            "=================================================================\n",
            "Total params: 23,201\n",
            "Trainable params: 23,201\n",
            "Non-trainable params: 0\n",
            "_________________________________________________________________\n"
          ],
          "name": "stdout"
        }
      ]
    },
    {
      "metadata": {
        "id": "2vLBSEatn4Py",
        "colab_type": "text"
      },
      "cell_type": "markdown",
      "source": [
        "Now its time to use bidirectional RNNs."
      ]
    },
    {
      "metadata": {
        "id": "JBoZ_7d7n3EV",
        "colab_type": "code",
        "outputId": "9135cd62-dc81-4034-a10c-086e33fe7ea2",
        "colab": {
          "base_uri": "https://localhost:8080/",
          "height": 1580
        }
      },
      "cell_type": "code",
      "source": [
        "#New instance, re import\n",
        "from keras.models import Sequential\n",
        "from keras import layers\n",
        "from keras.optimizers import RMSprop\n",
        "#studying the effects of stacking recurrent layers firsthand... again.\n",
        "model = Sequential()\n",
        "model.add(layers.GRU(32,dropout=0.1,recurrent_dropout=0.5,return_sequences=True,input_shape=(None, float_data.shape[-1])))\n",
        "model.add(layers.GRU(64, activation='relu',dropout=0.1,recurrent_dropout=0.5))\n",
        "model.add(layers.Dense(1))\n",
        "\n",
        "model.compile(optimizer=RMSprop(), loss='mae')\n",
        "history = model.fit_generator(train_gen,steps_per_epoch=500,epochs=40,validation_data=val_gen,validation_steps=val_steps)\n",
        "#had to "
      ],
      "execution_count": 13,
      "outputs": [
        {
          "output_type": "stream",
          "text": [
            "WARNING:tensorflow:From /usr/local/lib/python3.6/dist-packages/tensorflow/python/framework/op_def_library.py:263: colocate_with (from tensorflow.python.framework.ops) is deprecated and will be removed in a future version.\n",
            "Instructions for updating:\n",
            "Colocations handled automatically by placer.\n",
            "WARNING:tensorflow:From /usr/local/lib/python3.6/dist-packages/keras/backend/tensorflow_backend.py:3445: calling dropout (from tensorflow.python.ops.nn_ops) with keep_prob is deprecated and will be removed in a future version.\n",
            "Instructions for updating:\n",
            "Please use `rate` instead of `keep_prob`. Rate should be set to `rate = 1 - keep_prob`.\n",
            "WARNING:tensorflow:From /usr/local/lib/python3.6/dist-packages/tensorflow/python/ops/math_ops.py:3066: to_int32 (from tensorflow.python.ops.math_ops) is deprecated and will be removed in a future version.\n",
            "Instructions for updating:\n",
            "Use tf.cast instead.\n",
            "Epoch 1/40\n",
            "500/500 [==============================] - 362s 724ms/step - loss: 0.3330 - val_loss: 0.2752\n",
            "Epoch 2/40\n",
            "500/500 [==============================] - 359s 718ms/step - loss: 0.3120 - val_loss: 0.2719\n",
            "Epoch 3/40\n",
            "500/500 [==============================] - 359s 718ms/step - loss: 0.3055 - val_loss: 0.2689\n",
            "Epoch 4/40\n",
            "500/500 [==============================] - 360s 719ms/step - loss: 0.3019 - val_loss: 0.2715\n",
            "Epoch 5/40\n",
            "500/500 [==============================] - 359s 718ms/step - loss: 0.2978 - val_loss: 0.2681\n",
            "Epoch 6/40\n",
            "500/500 [==============================] - 359s 718ms/step - loss: 0.2952 - val_loss: 0.2687\n",
            "Epoch 7/40\n",
            "500/500 [==============================] - 359s 719ms/step - loss: 0.2931 - val_loss: 0.2701\n",
            "Epoch 8/40\n",
            "500/500 [==============================] - 360s 719ms/step - loss: 0.2897 - val_loss: 0.2645\n",
            "Epoch 9/40\n",
            "500/500 [==============================] - 357s 715ms/step - loss: 0.2865 - val_loss: 0.2615\n",
            "Epoch 10/40\n",
            "500/500 [==============================] - 358s 717ms/step - loss: 0.2862 - val_loss: 0.2631\n",
            "Epoch 11/40\n",
            "500/500 [==============================] - 358s 715ms/step - loss: 0.2813 - val_loss: 0.2669\n",
            "Epoch 12/40\n",
            "500/500 [==============================] - 358s 716ms/step - loss: 0.2807 - val_loss: 0.2662\n",
            "Epoch 13/40\n",
            "500/500 [==============================] - 358s 716ms/step - loss: 0.2789 - val_loss: 0.2738\n",
            "Epoch 14/40\n",
            "500/500 [==============================] - 359s 719ms/step - loss: 0.2750 - val_loss: 0.2647\n",
            "Epoch 15/40\n",
            "500/500 [==============================] - 358s 716ms/step - loss: 0.2752 - val_loss: 0.2643\n",
            "Epoch 16/40\n",
            "500/500 [==============================] - 358s 716ms/step - loss: 0.2732 - val_loss: 0.2664\n",
            "Epoch 17/40\n",
            "500/500 [==============================] - 358s 717ms/step - loss: 0.2728 - val_loss: 0.2712\n",
            "Epoch 18/40\n",
            "500/500 [==============================] - 358s 716ms/step - loss: 0.2706 - val_loss: 0.2653\n",
            "Epoch 19/40\n",
            "500/500 [==============================] - 357s 714ms/step - loss: 0.2696 - val_loss: 0.2633\n",
            "Epoch 20/40\n",
            "500/500 [==============================] - 358s 715ms/step - loss: 0.2676 - val_loss: 0.2692\n",
            "Epoch 21/40\n",
            "500/500 [==============================] - 359s 719ms/step - loss: 0.2671 - val_loss: 0.2675\n",
            "Epoch 22/40\n",
            "500/500 [==============================] - 358s 716ms/step - loss: 0.2655 - val_loss: 0.2629\n",
            "Epoch 23/40\n",
            "500/500 [==============================] - 358s 716ms/step - loss: 0.2656 - val_loss: 0.2632\n",
            "Epoch 24/40\n",
            "500/500 [==============================] - 357s 715ms/step - loss: 0.2634 - val_loss: 0.2702\n",
            "Epoch 25/40\n",
            "500/500 [==============================] - 359s 719ms/step - loss: 0.2639 - val_loss: 0.2769\n",
            "Epoch 26/40\n",
            "500/500 [==============================] - 360s 720ms/step - loss: 0.2614 - val_loss: 0.2661\n",
            "Epoch 27/40\n",
            "500/500 [==============================] - 359s 718ms/step - loss: 0.2616 - val_loss: 0.2643\n",
            "Epoch 28/40\n",
            "500/500 [==============================] - 359s 717ms/step - loss: 0.2610 - val_loss: 0.2678\n",
            "Epoch 29/40\n",
            "500/500 [==============================] - 358s 716ms/step - loss: 0.2597 - val_loss: 0.2667\n",
            "Epoch 30/40\n",
            "500/500 [==============================] - 358s 717ms/step - loss: 0.2587 - val_loss: 0.2671\n",
            "Epoch 31/40\n",
            "500/500 [==============================] - 358s 717ms/step - loss: 0.2572 - val_loss: 0.2729\n",
            "Epoch 32/40\n",
            "500/500 [==============================] - 357s 713ms/step - loss: 0.2574 - val_loss: 0.2713\n",
            "Epoch 33/40\n",
            "500/500 [==============================] - 359s 718ms/step - loss: 0.2571 - val_loss: 0.2747\n",
            "Epoch 34/40\n",
            "500/500 [==============================] - 360s 719ms/step - loss: 0.2558 - val_loss: 0.2725\n",
            "Epoch 35/40\n",
            "500/500 [==============================] - 358s 716ms/step - loss: 0.2544 - val_loss: 0.2700\n",
            "Epoch 36/40\n",
            "500/500 [==============================] - 359s 717ms/step - loss: 0.2536 - val_loss: 0.2705\n",
            "Epoch 37/40\n",
            "500/500 [==============================] - 358s 715ms/step - loss: 0.2537 - val_loss: 0.2723\n",
            "Epoch 38/40\n",
            "500/500 [==============================] - 357s 714ms/step - loss: 0.2522 - val_loss: 0.2829\n",
            "Epoch 39/40\n",
            "500/500 [==============================] - 357s 714ms/step - loss: 0.2513 - val_loss: 0.2687\n",
            "Epoch 40/40\n",
            "500/500 [==============================] - 357s 715ms/step - loss: 0.2520 - val_loss: 0.2706\n"
          ],
          "name": "stdout"
        }
      ]
    },
    {
      "metadata": {
        "id": "z00VRmvo5WAH",
        "colab_type": "code",
        "colab": {
          "base_uri": "https://localhost:8080/",
          "height": 363
        },
        "outputId": "5d7bafe8-f1b5-4706-a5ff-47fcc7254341"
      },
      "cell_type": "code",
      "source": [
        "#I HAD TO RUN THIS LAST BLOCK TWICE BECAUSE WINDOWS UPDATE\n",
        "loss = history.history['loss']\n",
        "val_loss = history.history['val_loss']\n",
        "epochs = range(len(loss))\n",
        "plt.figure()\n",
        "plt.plot(epochs, loss, 'bo', label='Training loss')\n",
        "plt.plot(epochs, val_loss, 'b', label='Validation loss')\n",
        "plt.title('Training and validation loss')\n",
        "plt.legend()\n",
        "plt.show()\n",
        "#moment of truth after like 8 hours"
      ],
      "execution_count": 14,
      "outputs": [
        {
          "output_type": "display_data",
          "data": {
            "image/png": "[encoded data removed]",
            "text/plain": [
              "<Figure size 576x396 with 1 Axes>"
            ]
          },
          "metadata": {
            "tags": []
          }
        }
      ]
    },
    {
      "metadata": {
        "id": "91grRZDX6rr7",
        "colab_type": "code",
        "colab": {
          "base_uri": "https://localhost:8080/",
          "height": 381
        },
        "outputId": "177479d4-05d8-4bd0-e870-6d2c58aab6bd"
      },
      "cell_type": "code",
      "source": [
        "#This new instance (computer turned off again), going to reimport rather than run previous cells again\n",
        "from keras.models import Sequential\n",
        "from keras import layers\n",
        "from keras.optimizers import RMSprop\n",
        "#features again\n",
        "max_features = 10000\n",
        "maxlen = 500\n",
        "# Need to get the IMDB data back from the beginning, I reload it here.\n",
        "(x_train, y_train), (x_test, y_test) = imdb.load_data(num_words=max_features)\n",
        "x_train = sequence.pad_sequences(x_train, maxlen=maxlen)\n",
        "x_test = sequence.pad_sequences(x_test, maxlen=maxlen)\n",
        "#Create bidirectional RNN to analyze the IMDB dataset\n",
        "model = Sequential()\n",
        "model.add(layers.Embedding(max_features, 32))\n",
        "model.add(layers.Bidirectional(layers.LSTM(32)))\n",
        "model.add(layers.Dense(1, activation='sigmoid'))\n",
        "\n",
        "model.compile(optimizer='rmsprop', loss='binary_crossentropy', metrics=['acc'])\n",
        "history = model.fit(x_train, y_train, epochs=10, batch_size=128, validation_split=0.2)"
      ],
      "execution_count": 4,
      "outputs": [
        {
          "output_type": "stream",
          "text": [
            "Train on 20000 samples, validate on 5000 samples\n",
            "Epoch 1/10\n",
            "20000/20000 [==============================] - 155s 8ms/step - loss: 0.5575 - acc: 0.7221 - val_loss: 0.4312 - val_acc: 0.8340\n",
            "Epoch 2/10\n",
            "20000/20000 [==============================] - 152s 8ms/step - loss: 0.3539 - acc: 0.8667 - val_loss: 0.3235 - val_acc: 0.8820\n",
            "Epoch 3/10\n",
            "20000/20000 [==============================] - 153s 8ms/step - loss: 0.2873 - acc: 0.8982 - val_loss: 0.3033 - val_acc: 0.8806\n",
            "Epoch 4/10\n",
            "20000/20000 [==============================] - 152s 8ms/step - loss: 0.2337 - acc: 0.9148 - val_loss: 0.3405 - val_acc: 0.8716\n",
            "Epoch 5/10\n",
            "20000/20000 [==============================] - 152s 8ms/step - loss: 0.2045 - acc: 0.9271 - val_loss: 0.3227 - val_acc: 0.8880\n",
            "Epoch 6/10\n",
            "20000/20000 [==============================] - 151s 8ms/step - loss: 0.1813 - acc: 0.9375 - val_loss: 0.4227 - val_acc: 0.8508\n",
            "Epoch 7/10\n",
            "20000/20000 [==============================] - 152s 8ms/step - loss: 0.1720 - acc: 0.9402 - val_loss: 0.3461 - val_acc: 0.8798\n",
            "Epoch 8/10\n",
            "20000/20000 [==============================] - 151s 8ms/step - loss: 0.1548 - acc: 0.9463 - val_loss: 0.5604 - val_acc: 0.8388\n",
            "Epoch 9/10\n",
            "20000/20000 [==============================] - 151s 8ms/step - loss: 0.1421 - acc: 0.9516 - val_loss: 0.4121 - val_acc: 0.8552\n",
            "Epoch 10/10\n",
            "20000/20000 [==============================] - 151s 8ms/step - loss: 0.1356 - acc: 0.9550 - val_loss: 0.3769 - val_acc: 0.8746\n"
          ],
          "name": "stdout"
        }
      ]
    },
    {
      "metadata": {
        "id": "J929xEGDY4gD",
        "colab_type": "text"
      },
      "cell_type": "markdown",
      "source": [
        "10 epochs of 1 bidirectional RNN layer outperforms 5 epochs of stacked RNNs from before! "
      ]
    },
    {
      "metadata": {
        "id": "7S212rU4YovV",
        "colab_type": "code",
        "colab": {
          "base_uri": "https://localhost:8080/",
          "height": 1335
        },
        "outputId": "f212d823-9889-4768-a1fb-e10940bb061a"
      },
      "cell_type": "code",
      "source": [
        "model = Sequential()\n",
        "model.add(layers.Bidirectional(layers.GRU(32), input_shape=(None, float_data.shape[-1])))\n",
        "model.add(layers.Dense(1))\n",
        "model.compile(optimizer=RMSprop(), loss='mae')\n",
        "history = model.fit_generator(train_gen,steps_per_epoch=500,epochs=40,validation_data=val_gen,validation_steps=val_steps)\n",
        "#Applying the bidirectional model to the temperature prediction problem\n",
        "#Performs slightly worse than the stacked monodirectional RNNS\n",
        "#Chronological order is therefore important!"
      ],
      "execution_count": 0,
      "outputs": [
        {
          "output_type": "stream",
          "text": [
            "Epoch 1/40\n",
            "500/500 [==============================] - 197s 393ms/step - loss: 0.2996 - val_loss: 0.2753\n",
            "Epoch 2/40\n",
            "500/500 [==============================] - 196s 393ms/step - loss: 0.2758 - val_loss: 0.2655\n",
            "Epoch 3/40\n",
            "500/500 [==============================] - 197s 394ms/step - loss: 0.2686 - val_loss: 0.2719\n",
            "Epoch 4/40\n",
            "500/500 [==============================] - 197s 395ms/step - loss: 0.2612 - val_loss: 0.2640\n",
            "Epoch 5/40\n",
            "500/500 [==============================] - 195s 389ms/step - loss: 0.2563 - val_loss: 0.2679\n",
            "Epoch 6/40\n",
            "500/500 [==============================] - 194s 388ms/step - loss: 0.2502 - val_loss: 0.2692\n",
            "Epoch 7/40\n",
            "500/500 [==============================] - 193s 387ms/step - loss: 0.2450 - val_loss: 0.2837\n",
            "Epoch 8/40\n",
            "500/500 [==============================] - 194s 387ms/step - loss: 0.2393 - val_loss: 0.2746\n",
            "Epoch 9/40\n",
            "500/500 [==============================] - 192s 384ms/step - loss: 0.2324 - val_loss: 0.2796\n",
            "Epoch 10/40\n",
            "500/500 [==============================] - 193s 386ms/step - loss: 0.2252 - val_loss: 0.2837\n",
            "Epoch 11/40\n",
            "500/500 [==============================] - 193s 387ms/step - loss: 0.2193 - val_loss: 0.2826\n",
            "Epoch 12/40\n",
            "500/500 [==============================] - 198s 396ms/step - loss: 0.2147 - val_loss: 0.2902\n",
            "Epoch 13/40\n",
            "500/500 [==============================] - 198s 396ms/step - loss: 0.2086 - val_loss: 0.2927\n",
            "Epoch 14/40\n",
            "500/500 [==============================] - 198s 395ms/step - loss: 0.2039 - val_loss: 0.2954\n",
            "Epoch 15/40\n",
            "500/500 [==============================] - 198s 395ms/step - loss: 0.1993 - val_loss: 0.2958\n",
            "Epoch 16/40\n",
            "500/500 [==============================] - 198s 397ms/step - loss: 0.1937 - val_loss: 0.3051\n",
            "Epoch 17/40\n",
            "500/500 [==============================] - 199s 397ms/step - loss: 0.1897 - val_loss: 0.3037\n",
            "Epoch 18/40\n",
            "500/500 [==============================] - 200s 399ms/step - loss: 0.1879 - val_loss: 0.3085\n",
            "Epoch 19/40\n",
            "500/500 [==============================] - 198s 395ms/step - loss: 0.1828 - val_loss: 0.3034\n",
            "Epoch 20/40\n",
            "500/500 [==============================] - 198s 396ms/step - loss: 0.1800 - val_loss: 0.3103\n",
            "Epoch 21/40\n",
            "500/500 [==============================] - 201s 402ms/step - loss: 0.1768 - val_loss: 0.3071\n",
            "Epoch 22/40\n",
            "500/500 [==============================] - 200s 399ms/step - loss: 0.1729 - val_loss: 0.3190\n",
            "Epoch 23/40\n",
            "500/500 [==============================] - 199s 399ms/step - loss: 0.1702 - val_loss: 0.3175\n",
            "Epoch 24/40\n",
            "500/500 [==============================] - 200s 400ms/step - loss: 0.1681 - val_loss: 0.3161\n",
            "Epoch 25/40\n",
            "500/500 [==============================] - 200s 400ms/step - loss: 0.1654 - val_loss: 0.3176\n",
            "Epoch 26/40\n",
            "500/500 [==============================] - 200s 400ms/step - loss: 0.1620 - val_loss: 0.3235\n",
            "Epoch 27/40\n",
            "500/500 [==============================] - 196s 392ms/step - loss: 0.1605 - val_loss: 0.3202\n",
            "Epoch 28/40\n",
            "500/500 [==============================] - 194s 388ms/step - loss: 0.1582 - val_loss: 0.3158\n",
            "Epoch 29/40\n",
            "500/500 [==============================] - 195s 390ms/step - loss: 0.1564 - val_loss: 0.3197\n",
            "Epoch 30/40\n",
            "500/500 [==============================] - 194s 389ms/step - loss: 0.1540 - val_loss: 0.3198\n",
            "Epoch 31/40\n",
            "500/500 [==============================] - 195s 390ms/step - loss: 0.1518 - val_loss: 0.3273\n",
            "Epoch 32/40\n",
            "500/500 [==============================] - 198s 396ms/step - loss: 0.1502 - val_loss: 0.3241\n",
            "Epoch 33/40\n",
            "500/500 [==============================] - 198s 397ms/step - loss: 0.1489 - val_loss: 0.3197\n",
            "Epoch 34/40\n",
            "500/500 [==============================] - 199s 398ms/step - loss: 0.1467 - val_loss: 0.3203\n",
            "Epoch 35/40\n",
            "500/500 [==============================] - 197s 394ms/step - loss: 0.1456 - val_loss: 0.3277\n",
            "Epoch 36/40\n",
            "500/500 [==============================] - 196s 393ms/step - loss: 0.1441 - val_loss: 0.3248\n",
            "Epoch 37/40\n",
            "500/500 [==============================] - 196s 392ms/step - loss: 0.1424 - val_loss: 0.3309\n",
            "Epoch 38/40\n",
            "499/500 [============================>.] - ETA: 0s - loss: 0.1413"
          ],
          "name": "stdout"
        }
      ]
    }
  ]
}