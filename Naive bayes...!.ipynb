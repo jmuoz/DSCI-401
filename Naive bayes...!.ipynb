{
 "cells": [
  {
   "cell_type": "markdown",
   "metadata": {},
   "source": [
    "# Naive Bayes Algorithm on the Iris Dataset"
   ]
  },
  {
   "cell_type": "code",
   "execution_count": 1,
   "metadata": {},
   "outputs": [
    {
     "data": {
      "text/html": [
       "<div>\n",
       "<style scoped>\n",
       "    .dataframe tbody tr th:only-of-type {\n",
       "        vertical-align: middle;\n",
       "    }\n",
       "\n",
       "    .dataframe tbody tr th {\n",
       "        vertical-align: top;\n",
       "    }\n",
       "\n",
       "    .dataframe thead th {\n",
       "        text-align: right;\n",
       "    }\n",
       "</style>\n",
       "<table border=\"1\" class=\"dataframe\">\n",
       "  <thead>\n",
       "    <tr style=\"text-align: right;\">\n",
       "      <th></th>\n",
       "      <th>Sepal.Length</th>\n",
       "      <th>Sepal.Width</th>\n",
       "      <th>Petal.Length</th>\n",
       "      <th>Petal.Width</th>\n",
       "      <th>Species</th>\n",
       "    </tr>\n",
       "  </thead>\n",
       "  <tbody>\n",
       "    <tr>\n",
       "      <th>0</th>\n",
       "      <td>5.1</td>\n",
       "      <td>3.5</td>\n",
       "      <td>1.4</td>\n",
       "      <td>0.2</td>\n",
       "      <td>setosa</td>\n",
       "    </tr>\n",
       "    <tr>\n",
       "      <th>1</th>\n",
       "      <td>4.9</td>\n",
       "      <td>3.0</td>\n",
       "      <td>1.4</td>\n",
       "      <td>0.2</td>\n",
       "      <td>setosa</td>\n",
       "    </tr>\n",
       "    <tr>\n",
       "      <th>2</th>\n",
       "      <td>4.7</td>\n",
       "      <td>3.2</td>\n",
       "      <td>1.3</td>\n",
       "      <td>0.2</td>\n",
       "      <td>setosa</td>\n",
       "    </tr>\n",
       "    <tr>\n",
       "      <th>3</th>\n",
       "      <td>4.6</td>\n",
       "      <td>3.1</td>\n",
       "      <td>1.5</td>\n",
       "      <td>0.2</td>\n",
       "      <td>setosa</td>\n",
       "    </tr>\n",
       "    <tr>\n",
       "      <th>4</th>\n",
       "      <td>5.0</td>\n",
       "      <td>3.6</td>\n",
       "      <td>1.4</td>\n",
       "      <td>0.2</td>\n",
       "      <td>setosa</td>\n",
       "    </tr>\n",
       "  </tbody>\n",
       "</table>\n",
       "</div>"
      ],
      "text/plain": [
       "   Sepal.Length  Sepal.Width  Petal.Length  Petal.Width Species\n",
       "0           5.1          3.5           1.4          0.2  setosa\n",
       "1           4.9          3.0           1.4          0.2  setosa\n",
       "2           4.7          3.2           1.3          0.2  setosa\n",
       "3           4.6          3.1           1.5          0.2  setosa\n",
       "4           5.0          3.6           1.4          0.2  setosa"
      ]
     },
     "execution_count": 1,
     "metadata": {},
     "output_type": "execute_result"
    }
   ],
   "source": [
    "import pandas as pd\n",
    "from sklearn import naive_bayes\n",
    "from sklearn.model_selection import train_test_split\n",
    "from sklearn.metrics import accuracy_score\n",
    "from sklearn.metrics import precision_score\n",
    "from sklearn.metrics import recall_score\n",
    "from sklearn.metrics import f1_score\n",
    "from sklearn.metrics import roc_auc_score\n",
    "from sklearn.metrics import confusion_matrix\n",
    "from sklearn import preprocessing\n",
    "data = pd.read_csv('./data/iris.csv')\n",
    "data.head()"
   ]
  },
  {
   "cell_type": "code",
   "execution_count": 2,
   "metadata": {},
   "outputs": [],
   "source": [
    "features = list(data)\n",
    "features.remove('Species')\n",
    "data_x = data[features]\n",
    "data_y = data['Species']"
   ]
  },
  {
   "cell_type": "code",
   "execution_count": 3,
   "metadata": {},
   "outputs": [],
   "source": [
    "#preprocessing: convert class labels to numbers\n",
    "le = preprocessing.LabelEncoder()\n",
    "data_y = le.fit_transform(data_y)\n",
    "\n",
    "#split it\n",
    "x_train, x_test, y_train, y_test = train_test_split(data_x, data_y, test_size = .3, random_state = 4)"
   ]
  },
  {
   "cell_type": "code",
   "execution_count": 5,
   "metadata": {},
   "outputs": [
    {
     "name": "stdout",
     "output_type": "stream",
     "text": [
      "Accuracy: 0.9777777777777777\n",
      "Confusion Matrix: \n",
      "[[21  0  0]\n",
      " [ 0 10  0]\n",
      " [ 0  1 13]]\n"
     ]
    }
   ],
   "source": [
    "#build and evaluate model\n",
    "gnb_mod = naive_bayes.GaussianNB()\n",
    "gnb_mod.fit(x_train, y_train)\n",
    "y_hat = gnb_mod.predict(x_test)\n",
    "\n",
    "print('Accuracy: ' + str(accuracy_score(y_test, y_hat)))\n",
    "print('Confusion Matrix: \\n' + str(confusion_matrix(y_test, y_hat)))"
   ]
  },
  {
   "cell_type": "code",
   "execution_count": 7,
   "metadata": {},
   "outputs": [
    {
     "name": "stdout",
     "output_type": "stream",
     "text": [
      "(Actual, Predicted): \n",
      "[('virginica', 'virginica'), ('setosa', 'setosa'), ('virginica', 'virginica'), ('virginica', 'virginica'), ('virginica', 'virginica'), ('versicolor', 'versicolor'), ('versicolor', 'versicolor'), ('setosa', 'setosa'), ('setosa', 'setosa'), ('virginica', 'versicolor'), ('setosa', 'setosa'), ('setosa', 'setosa'), ('setosa', 'setosa'), ('versicolor', 'versicolor'), ('virginica', 'virginica'), ('setosa', 'setosa'), ('versicolor', 'versicolor'), ('setosa', 'setosa'), ('setosa', 'setosa'), ('virginica', 'virginica'), ('setosa', 'setosa'), ('virginica', 'virginica'), ('versicolor', 'versicolor'), ('setosa', 'setosa'), ('setosa', 'setosa'), ('setosa', 'setosa'), ('setosa', 'setosa'), ('setosa', 'setosa'), ('setosa', 'setosa'), ('virginica', 'virginica'), ('versicolor', 'versicolor'), ('setosa', 'setosa'), ('virginica', 'virginica'), ('setosa', 'setosa'), ('versicolor', 'versicolor'), ('virginica', 'virginica'), ('virginica', 'virginica'), ('versicolor', 'versicolor'), ('versicolor', 'versicolor'), ('setosa', 'setosa'), ('virginica', 'virginica'), ('setosa', 'setosa'), ('versicolor', 'versicolor'), ('setosa', 'setosa'), ('virginica', 'virginica')]\n"
     ]
    }
   ],
   "source": [
    "#Illustrate recoding of numeric classes back to original\n",
    "y_test_labs = le.inverse_transform(y_test)\n",
    "y_hat_labs = le.inverse_transform(y_hat)\n",
    "print('(Actual, Predicted): \\n' + str(list(zip(y_test_labs, y_hat_labs))))\n",
    "\n"
   ]
  }
 ],
 "metadata": {
  "kernelspec": {
   "display_name": "Python 3",
   "language": "python",
   "name": "python3"
  },
  "language_info": {
   "codemirror_mode": {
    "name": "ipython",
    "version": 3
   },
   "file_extension": ".py",
   "mimetype": "text/x-python",
   "name": "python",
   "nbconvert_exporter": "python",
   "pygments_lexer": "ipython3",
   "version": "3.7.1"
  }
 },
 "nbformat": 4,
 "nbformat_minor": 2
}
