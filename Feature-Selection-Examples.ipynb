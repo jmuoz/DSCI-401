{
 "cells": [
  {
   "cell_type": "markdown",
   "metadata": {},
   "source": [
    "# Feature Selection"
   ]
  },
  {
   "cell_type": "code",
   "execution_count": 1,
   "metadata": {},
   "outputs": [],
   "source": [
    "import pandas as pd\n",
    "import matplotlib.pyplot as plt\n",
    "import seaborn as sns\n",
    "from sklearn import linear_model\n",
    "from sklearn.model_selection import train_test_split\n",
    "from error_metrics import print_reg_error_metrics\n",
    "from sklearn.feature_selection import f_regression\n",
    "from sklearn.feature_selection import SelectPercentile\n",
    "from sklearn.feature_selection import SelectKBest\n",
    "from sklearn.feature_selection import RFECV\n",
    "from sklearn.metrics import r2_score\n",
    "from sklearn.metrics import make_scorer\n",
    "\n",
    "cars = pd.read_csv('./data/cars.csv')\n",
    "data_x = cars[list(cars)[1:]]\n",
    "data_y = cars['mpg']\n",
    "#create training and test splits\n",
    "x_train, x_test, y_train, y_test = train_test_split(data_x, data_y,test_size = 0.2, random_state = 4)"
   ]
  },
  {
   "cell_type": "code",
   "execution_count": 2,
   "metadata": {},
   "outputs": [
    {
     "name": "stdout",
     "output_type": "stream",
     "text": [
      "MSE, MAE, R^2, EVS: [24.51493293197121, 4.3870307737591006, 0.636872671247911, 0.767292589077751]\n"
     ]
    }
   ],
   "source": [
    "base_model = linear_model.LinearRegression()\n",
    "base_model.fit(x_train, y_train)\n",
    "preds = base_model.predict(x_test)\n",
    "pd.DataFrame({'Actual':y_test,'Predicted':preds})#bruh\n",
    "print_reg_error_metrics(y_test, preds)"
   ]
  },
  {
   "cell_type": "markdown",
   "metadata": {},
   "source": [
    "## Use F-Selection (top 45%)"
   ]
  },
  {
   "cell_type": "code",
   "execution_count": 3,
   "metadata": {},
   "outputs": [
    {
     "name": "stdout",
     "output_type": "stream",
     "text": [
      "F-score, p-value, (mpg):1.4285485646903708e-08\n",
      "F-score, p-value, (cyl):2.288405556460013e-07\n",
      "F-score, p-value, (disp):1.918656593805583e-05\n",
      "F-score, p-value, (hp):0.0007751208908700202\n",
      "F-score, p-value, (drat):1.1242991837306483e-09\n",
      "F-score, p-value, (wt):0.09370523006136659\n",
      "F-score, p-value, (qsec):0.0015714445870867975\n",
      "F-score, p-value, (vs):0.008549929449842912\n",
      "F-score, p-value, (am):0.01511038230276851\n",
      "F-score, p-value, (gear):0.023739272527108935\n"
     ]
    }
   ],
   "source": [
    "selector_f = SelectPercentile(f_regression, percentile=45)\n",
    "selector_f.fit(x_train, y_train)\n",
    "for name, score, pv in zip(list(cars), selector_f.scores_, selector_f.pvalues_):\n",
    "    print('F-score, p-value, (' + name + '):' + str(pv))"
   ]
  },
  {
   "cell_type": "code",
   "execution_count": 4,
   "metadata": {},
   "outputs": [
    {
     "name": "stdout",
     "output_type": "stream",
     "text": [
      "MSE, MAE, R^2, EVS: [19.846641819159014, 3.923571746993119, 0.6850648293222865, 0.7543657939488126]\n"
     ]
    },
    {
     "data": {
      "text/html": [
       "<div>\n",
       "<style scoped>\n",
       "    .dataframe tbody tr th:only-of-type {\n",
       "        vertical-align: middle;\n",
       "    }\n",
       "\n",
       "    .dataframe tbody tr th {\n",
       "        vertical-align: top;\n",
       "    }\n",
       "\n",
       "    .dataframe thead th {\n",
       "        text-align: right;\n",
       "    }\n",
       "</style>\n",
       "<table border=\"1\" class=\"dataframe\">\n",
       "  <thead>\n",
       "    <tr style=\"text-align: right;\">\n",
       "      <th></th>\n",
       "      <th>Actual</th>\n",
       "      <th>Predicted</th>\n",
       "    </tr>\n",
       "  </thead>\n",
       "  <tbody>\n",
       "    <tr>\n",
       "      <th>20</th>\n",
       "      <td>21.5</td>\n",
       "      <td>25.423572</td>\n",
       "    </tr>\n",
       "    <tr>\n",
       "      <th>15</th>\n",
       "      <td>10.4</td>\n",
       "      <td>9.409473</td>\n",
       "    </tr>\n",
       "    <tr>\n",
       "      <th>17</th>\n",
       "      <td>32.4</td>\n",
       "      <td>26.361547</td>\n",
       "    </tr>\n",
       "    <tr>\n",
       "      <th>2</th>\n",
       "      <td>22.8</td>\n",
       "      <td>25.917334</td>\n",
       "    </tr>\n",
       "    <tr>\n",
       "      <th>11</th>\n",
       "      <td>16.4</td>\n",
       "      <td>13.313240</td>\n",
       "    </tr>\n",
       "    <tr>\n",
       "      <th>19</th>\n",
       "      <td>33.9</td>\n",
       "      <td>27.901512</td>\n",
       "    </tr>\n",
       "    <tr>\n",
       "      <th>16</th>\n",
       "      <td>14.7</td>\n",
       "      <td>9.144796</td>\n",
       "    </tr>\n",
       "  </tbody>\n",
       "</table>\n",
       "</div>"
      ],
      "text/plain": [
       "    Actual  Predicted\n",
       "20    21.5  25.423572\n",
       "15    10.4   9.409473\n",
       "17    32.4  26.361547\n",
       "2     22.8  25.917334\n",
       "11    16.4  13.313240\n",
       "19    33.9  27.901512\n",
       "16    14.7   9.144796"
      ]
     },
     "execution_count": 4,
     "metadata": {},
     "output_type": "execute_result"
    }
   ],
   "source": [
    "#get the features-selected data\n",
    "xt_train, xt_test = selector_f.transform(x_train), selector_f.transform(x_test)\n",
    "model = linear_model.LinearRegression()\n",
    "model.fit(xt_train, y_train)\n",
    "preds = model.predict(xt_test)\n",
    "print_reg_error_metrics(y_test, preds)\n",
    "pd.DataFrame({'Actual':y_test,'Predicted':preds})#bruh"
   ]
  },
  {
   "cell_type": "markdown",
   "metadata": {},
   "source": [
    "### F-Selection (K-best, k=3)"
   ]
  },
  {
   "cell_type": "code",
   "execution_count": 5,
   "metadata": {},
   "outputs": [
    {
     "data": {
      "text/plain": [
       "SelectKBest(k=3, score_func=<function f_regression at 0x0000020FF029D7B8>)"
      ]
     },
     "execution_count": 5,
     "metadata": {},
     "output_type": "execute_result"
    }
   ],
   "source": [
    "#create a feature selecter that uses the top 3 features by the F metric.\n",
    "selector_f = SelectKBest(f_regression, k=3)\n",
    "selector_f.fit(x_train, y_train)"
   ]
  },
  {
   "cell_type": "code",
   "execution_count": 6,
   "metadata": {},
   "outputs": [
    {
     "name": "stdout",
     "output_type": "stream",
     "text": [
      "MSE, MAE, R^2, EVS: [19.988618207227002, 4.1125419122460265, 0.6673504425122332, 0.7324619718569146]\n"
     ]
    },
    {
     "data": {
      "text/html": [
       "<div>\n",
       "<style scoped>\n",
       "    .dataframe tbody tr th:only-of-type {\n",
       "        vertical-align: middle;\n",
       "    }\n",
       "\n",
       "    .dataframe tbody tr th {\n",
       "        vertical-align: top;\n",
       "    }\n",
       "\n",
       "    .dataframe thead th {\n",
       "        text-align: right;\n",
       "    }\n",
       "</style>\n",
       "<table border=\"1\" class=\"dataframe\">\n",
       "  <thead>\n",
       "    <tr style=\"text-align: right;\">\n",
       "      <th></th>\n",
       "      <th>Actual</th>\n",
       "      <th>Predicted</th>\n",
       "    </tr>\n",
       "  </thead>\n",
       "  <tbody>\n",
       "    <tr>\n",
       "      <th>20</th>\n",
       "      <td>21.5</td>\n",
       "      <td>25.612542</td>\n",
       "    </tr>\n",
       "    <tr>\n",
       "      <th>15</th>\n",
       "      <td>10.4</td>\n",
       "      <td>9.764495</td>\n",
       "    </tr>\n",
       "    <tr>\n",
       "      <th>17</th>\n",
       "      <td>32.4</td>\n",
       "      <td>26.195267</td>\n",
       "    </tr>\n",
       "    <tr>\n",
       "      <th>2</th>\n",
       "      <td>22.8</td>\n",
       "      <td>26.073464</td>\n",
       "    </tr>\n",
       "    <tr>\n",
       "      <th>11</th>\n",
       "      <td>16.4</td>\n",
       "      <td>13.109840</td>\n",
       "    </tr>\n",
       "    <tr>\n",
       "      <th>19</th>\n",
       "      <td>33.9</td>\n",
       "      <td>27.663263</td>\n",
       "    </tr>\n",
       "    <tr>\n",
       "      <th>16</th>\n",
       "      <td>14.7</td>\n",
       "      <td>9.835112</td>\n",
       "    </tr>\n",
       "  </tbody>\n",
       "</table>\n",
       "</div>"
      ],
      "text/plain": [
       "    Actual  Predicted\n",
       "20    21.5  25.612542\n",
       "15    10.4   9.764495\n",
       "17    32.4  26.195267\n",
       "2     22.8  26.073464\n",
       "11    16.4  13.109840\n",
       "19    33.9  27.663263\n",
       "16    14.7   9.835112"
      ]
     },
     "execution_count": 6,
     "metadata": {},
     "output_type": "execute_result"
    }
   ],
   "source": [
    "#get the features-selected data\n",
    "xt_train, xt_test = selector_f.transform(x_train), selector_f.transform(x_test)\n",
    "model = linear_model.LinearRegression()\n",
    "model.fit(xt_train, y_train)\n",
    "preds = model.predict(xt_test)\n",
    "print_reg_error_metrics(y_test, preds)\n",
    "pd.DataFrame({'Actual':y_test,'Predicted':preds})#bruh"
   ]
  },
  {
   "cell_type": "markdown",
   "metadata": {},
   "source": [
    "## Recursive Feature Elimination with Cross-Validation\n",
    "### (remember K-fold)"
   ]
  },
  {
   "cell_type": "code",
   "execution_count": 8,
   "metadata": {},
   "outputs": [
    {
     "name": "stdout",
     "output_type": "stream",
     "text": [
      "MSE, MAE, R^2, EVS: [20.98193480610998, 4.632496505789522, 0.6879483251172415, 0.7495733392019129]\n"
     ]
    },
    {
     "data": {
      "text/html": [
       "<div>\n",
       "<style scoped>\n",
       "    .dataframe tbody tr th:only-of-type {\n",
       "        vertical-align: middle;\n",
       "    }\n",
       "\n",
       "    .dataframe tbody tr th {\n",
       "        vertical-align: top;\n",
       "    }\n",
       "\n",
       "    .dataframe thead th {\n",
       "        text-align: right;\n",
       "    }\n",
       "</style>\n",
       "<table border=\"1\" class=\"dataframe\">\n",
       "  <thead>\n",
       "    <tr style=\"text-align: right;\">\n",
       "      <th></th>\n",
       "      <th>Actual</th>\n",
       "      <th>Predicted</th>\n",
       "    </tr>\n",
       "  </thead>\n",
       "  <tbody>\n",
       "    <tr>\n",
       "      <th>20</th>\n",
       "      <td>21.5</td>\n",
       "      <td>26.132497</td>\n",
       "    </tr>\n",
       "    <tr>\n",
       "      <th>15</th>\n",
       "      <td>10.4</td>\n",
       "      <td>8.407512</td>\n",
       "    </tr>\n",
       "    <tr>\n",
       "      <th>17</th>\n",
       "      <td>32.4</td>\n",
       "      <td>26.437259</td>\n",
       "    </tr>\n",
       "    <tr>\n",
       "      <th>2</th>\n",
       "      <td>22.8</td>\n",
       "      <td>25.950664</td>\n",
       "    </tr>\n",
       "    <tr>\n",
       "      <th>11</th>\n",
       "      <td>16.4</td>\n",
       "      <td>14.277840</td>\n",
       "    </tr>\n",
       "    <tr>\n",
       "      <th>19</th>\n",
       "      <td>33.9</td>\n",
       "      <td>27.917320</td>\n",
       "    </tr>\n",
       "    <tr>\n",
       "      <th>16</th>\n",
       "      <td>14.7</td>\n",
       "      <td>8.727854</td>\n",
       "    </tr>\n",
       "  </tbody>\n",
       "</table>\n",
       "</div>"
      ],
      "text/plain": [
       "    Actual  Predicted\n",
       "20    21.5  26.132497\n",
       "15    10.4   8.407512\n",
       "17    32.4  26.437259\n",
       "2     22.8  25.950664\n",
       "11    16.4  14.277840\n",
       "19    33.9  27.917320\n",
       "16    14.7   8.727854"
      ]
     },
     "execution_count": 8,
     "metadata": {},
     "output_type": "execute_result"
    }
   ],
   "source": [
    "#Build the RFECV selector with 5-fold CV and the R-squared score as the error metric\n",
    "selector_f = RFECV(estimator=linear_model.LinearRegression(), cv=5, scoring=make_scorer(r2_score))\n",
    "selector_f.fit(x_train, y_train)\n",
    "\n",
    "#get the features-selected data\n",
    "xt_train, xt_test = selector_f.transform(x_train), selector_f.transform(x_test)\n",
    "model = linear_model.LinearRegression()\n",
    "model.fit(xt_train, y_train)\n",
    "preds = model.predict(xt_test)\n",
    "print_reg_error_metrics(y_test, preds)\n",
    "pd.DataFrame({'Actual':y_test,'Predicted':preds})#bruh"
   ]
  }
 ],
 "metadata": {
  "kernelspec": {
   "display_name": "Python 3",
   "language": "python",
   "name": "python3"
  },
  "language_info": {
   "codemirror_mode": {
    "name": "ipython",
    "version": 3
   },
   "file_extension": ".py",
   "mimetype": "text/x-python",
   "name": "python",
   "nbconvert_exporter": "python",
   "pygments_lexer": "ipython3",
   "version": "3.7.1"
  }
 },
 "nbformat": 4,
 "nbformat_minor": 2
}
