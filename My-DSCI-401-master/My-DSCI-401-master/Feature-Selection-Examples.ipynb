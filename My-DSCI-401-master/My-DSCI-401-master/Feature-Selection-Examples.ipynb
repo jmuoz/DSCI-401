{
 "cells": [
  {
   "cell_type": "code",
   "execution_count": 18,
   "metadata": {},
   "outputs": [
    {
     "name": "stdout",
     "output_type": "stream",
     "text": [
      "['cyl', 'disp', 'hp', 'drat', 'wt', 'qsec', 'vs', 'am', 'gear', 'carb']\n"
     ]
    }
   ],
   "source": [
    "import pandas as pd\n",
    "import matplotlib.pyplot as plt\n",
    "from sklearn import linear_model\n",
    "from sklearn.model_selection import train_test_split\n",
    "from sklearn.feature_selection import f_regression\n",
    "from sklearn.feature_selection import SelectPercentile\n",
    "from sklearn.feature_selection import SelectKBest\n",
    "from sklearn.feature_selection import  RFECV\n",
    "from sklearn.metrics import r2_score\n",
    "from sklearn.metrics import make_scorer\n",
    "from error_metrics import print_regression_error_metrics\n",
    "\n",
    "# Read in and set the data.\n",
    "cars = pd.read_csv('./data/cars.csv')\n",
    "data_x = cars[list(cars)[1:]]\n",
    "data_y = cars[list(cars)[0]]\n",
    "\n",
    "print(list(data_x))\n",
    "\n",
    "# Create training and test splits.\n",
    "x_train, x_test, y_train, y_test = train_test_split(data_x, data_y, test_size=0.2, random_state=4)"
   ]
  },
  {
   "cell_type": "code",
   "execution_count": 19,
   "metadata": {},
   "outputs": [
    {
     "name": "stdout",
     "output_type": "stream",
     "text": [
      "MSE, MAE, R^2, EVS: [24.514932931971277, 4.3870307737591077, 0.63687267124791014, 0.76729258907775111]\n"
     ]
    },
    {
     "data": {
      "text/html": [
       "<div>\n",
       "<style>\n",
       "    .dataframe thead tr:only-child th {\n",
       "        text-align: right;\n",
       "    }\n",
       "\n",
       "    .dataframe thead th {\n",
       "        text-align: left;\n",
       "    }\n",
       "\n",
       "    .dataframe tbody tr th {\n",
       "        vertical-align: top;\n",
       "    }\n",
       "</style>\n",
       "<table border=\"1\" class=\"dataframe\">\n",
       "  <thead>\n",
       "    <tr style=\"text-align: right;\">\n",
       "      <th></th>\n",
       "      <th>Actual</th>\n",
       "      <th>Predicted</th>\n",
       "    </tr>\n",
       "  </thead>\n",
       "  <tbody>\n",
       "    <tr>\n",
       "      <th>20</th>\n",
       "      <td>21.5</td>\n",
       "      <td>25.161462</td>\n",
       "    </tr>\n",
       "    <tr>\n",
       "      <th>15</th>\n",
       "      <td>10.4</td>\n",
       "      <td>8.551049</td>\n",
       "    </tr>\n",
       "    <tr>\n",
       "      <th>17</th>\n",
       "      <td>32.4</td>\n",
       "      <td>25.465516</td>\n",
       "    </tr>\n",
       "    <tr>\n",
       "      <th>2</th>\n",
       "      <td>22.8</td>\n",
       "      <td>24.508777</td>\n",
       "    </tr>\n",
       "    <tr>\n",
       "      <th>11</th>\n",
       "      <td>16.4</td>\n",
       "      <td>12.012969</td>\n",
       "    </tr>\n",
       "    <tr>\n",
       "      <th>19</th>\n",
       "      <td>33.9</td>\n",
       "      <td>27.865780</td>\n",
       "    </tr>\n",
       "    <tr>\n",
       "      <th>16</th>\n",
       "      <td>14.7</td>\n",
       "      <td>7.763519</td>\n",
       "    </tr>\n",
       "  </tbody>\n",
       "</table>\n",
       "</div>"
      ],
      "text/plain": [
       "    Actual  Predicted\n",
       "20    21.5  25.161462\n",
       "15    10.4   8.551049\n",
       "17    32.4  25.465516\n",
       "2     22.8  24.508777\n",
       "11    16.4  12.012969\n",
       "19    33.9  27.865780\n",
       "16    14.7   7.763519"
      ]
     },
     "execution_count": 19,
     "metadata": {},
     "output_type": "execute_result"
    }
   ],
   "source": [
    "base_model = linear_model.LinearRegression()\n",
    "base_model.fit(x_train, y_train)\n",
    "preds = base_model.predict(x_test)\n",
    "print_regression_error_metrics(y_test, preds)\n",
    "pd.DataFrame({'Actual':y_test, 'Predicted':preds})\n"
   ]
  },
  {
   "cell_type": "markdown",
   "metadata": {},
   "source": [
    "### Use f-selection (top 45%)"
   ]
  },
  {
   "cell_type": "code",
   "execution_count": 20,
   "metadata": {},
   "outputs": [
    {
     "name": "stdout",
     "output_type": "stream",
     "text": [
      "F-score, p-value, (mpg):72.6089727717, 1.42854856469e-08\n",
      "F-score, p-value, (cyl):52.3792693627, 2.28840555646e-07\n",
      "F-score, p-value, (disp):28.7288601032, 1.91865659381e-05\n",
      "F-score, p-value, (hp):14.9824183955, 0.00077512089087\n",
      "F-score, p-value, (drat):95.9791939506, 1.12429918373e-09\n",
      "F-score, p-value, (wt):3.05743335949, 0.0937052300614\n",
      "F-score, p-value, (qsec):12.8430880798, 0.00157144458709\n",
      "F-score, p-value, (vs):8.26676293126, 0.00854992944984\n",
      "F-score, p-value, (am):6.89474176714, 0.0151103823028\n",
      "F-score, p-value, (gear):5.86451890569, 0.0237392725271\n"
     ]
    }
   ],
   "source": [
    "selector_f = SelectPercentile(f_regression, percentile=45)\n",
    "selector_f.fit(x_train, y_train)\n",
    "for name, score, pv in zip(list(cars), selector_f.scores_, selector_f.pvalues_):\n",
    "    print('F-score, p-value, (' + name + '):' + str(score) + \", \" + str(pv))"
   ]
  },
  {
   "cell_type": "code",
   "execution_count": 21,
   "metadata": {},
   "outputs": [
    {
     "name": "stdout",
     "output_type": "stream",
     "text": [
      "MSE, MAE, R^2, EVS: [19.846641819159014, 3.9235717469931188, 0.68506482932228652, 0.75436579394881265]\n"
     ]
    },
    {
     "data": {
      "text/html": [
       "<div>\n",
       "<style>\n",
       "    .dataframe thead tr:only-child th {\n",
       "        text-align: right;\n",
       "    }\n",
       "\n",
       "    .dataframe thead th {\n",
       "        text-align: left;\n",
       "    }\n",
       "\n",
       "    .dataframe tbody tr th {\n",
       "        vertical-align: top;\n",
       "    }\n",
       "</style>\n",
       "<table border=\"1\" class=\"dataframe\">\n",
       "  <thead>\n",
       "    <tr style=\"text-align: right;\">\n",
       "      <th></th>\n",
       "      <th>Actual</th>\n",
       "      <th>Predicted</th>\n",
       "    </tr>\n",
       "  </thead>\n",
       "  <tbody>\n",
       "    <tr>\n",
       "      <th>20</th>\n",
       "      <td>21.5</td>\n",
       "      <td>25.423572</td>\n",
       "    </tr>\n",
       "    <tr>\n",
       "      <th>15</th>\n",
       "      <td>10.4</td>\n",
       "      <td>9.409473</td>\n",
       "    </tr>\n",
       "    <tr>\n",
       "      <th>17</th>\n",
       "      <td>32.4</td>\n",
       "      <td>26.361547</td>\n",
       "    </tr>\n",
       "    <tr>\n",
       "      <th>2</th>\n",
       "      <td>22.8</td>\n",
       "      <td>25.917334</td>\n",
       "    </tr>\n",
       "    <tr>\n",
       "      <th>11</th>\n",
       "      <td>16.4</td>\n",
       "      <td>13.313240</td>\n",
       "    </tr>\n",
       "    <tr>\n",
       "      <th>19</th>\n",
       "      <td>33.9</td>\n",
       "      <td>27.901512</td>\n",
       "    </tr>\n",
       "    <tr>\n",
       "      <th>16</th>\n",
       "      <td>14.7</td>\n",
       "      <td>9.144796</td>\n",
       "    </tr>\n",
       "  </tbody>\n",
       "</table>\n",
       "</div>"
      ],
      "text/plain": [
       "    Actual  Predicted\n",
       "20    21.5  25.423572\n",
       "15    10.4   9.409473\n",
       "17    32.4  26.361547\n",
       "2     22.8  25.917334\n",
       "11    16.4  13.313240\n",
       "19    33.9  27.901512\n",
       "16    14.7   9.144796"
      ]
     },
     "execution_count": 21,
     "metadata": {},
     "output_type": "execute_result"
    }
   ],
   "source": [
    "# Get the feature-selected data\n",
    "xt_train, xt_test = selector_f.transform(x_train), selector_f.transform(x_test)\n",
    "\n",
    "# Build and test the new model with the selected features\n",
    "model = linear_model.LinearRegression()\n",
    "model.fit(xt_train, y_train)\n",
    "preds = model.predict(xt_test)\n",
    "print_regression_error_metrics(y_test, preds)\n",
    "pd.DataFrame({'Actual':y_test, 'Predicted':preds})"
   ]
  },
  {
   "cell_type": "markdown",
   "metadata": {},
   "source": [
    "### Use f-selection (using best 3 features)"
   ]
  },
  {
   "cell_type": "code",
   "execution_count": 22,
   "metadata": {},
   "outputs": [
    {
     "name": "stdout",
     "output_type": "stream",
     "text": [
      "MSE, MAE, R^2, EVS: [19.988618207227002, 4.1125419122460265, 0.66735044251223319, 0.73246197185691464]\n"
     ]
    },
    {
     "data": {
      "text/html": [
       "<div>\n",
       "<style>\n",
       "    .dataframe thead tr:only-child th {\n",
       "        text-align: right;\n",
       "    }\n",
       "\n",
       "    .dataframe thead th {\n",
       "        text-align: left;\n",
       "    }\n",
       "\n",
       "    .dataframe tbody tr th {\n",
       "        vertical-align: top;\n",
       "    }\n",
       "</style>\n",
       "<table border=\"1\" class=\"dataframe\">\n",
       "  <thead>\n",
       "    <tr style=\"text-align: right;\">\n",
       "      <th></th>\n",
       "      <th>Actual</th>\n",
       "      <th>Predicted</th>\n",
       "    </tr>\n",
       "  </thead>\n",
       "  <tbody>\n",
       "    <tr>\n",
       "      <th>20</th>\n",
       "      <td>21.5</td>\n",
       "      <td>25.612542</td>\n",
       "    </tr>\n",
       "    <tr>\n",
       "      <th>15</th>\n",
       "      <td>10.4</td>\n",
       "      <td>9.764495</td>\n",
       "    </tr>\n",
       "    <tr>\n",
       "      <th>17</th>\n",
       "      <td>32.4</td>\n",
       "      <td>26.195267</td>\n",
       "    </tr>\n",
       "    <tr>\n",
       "      <th>2</th>\n",
       "      <td>22.8</td>\n",
       "      <td>26.073464</td>\n",
       "    </tr>\n",
       "    <tr>\n",
       "      <th>11</th>\n",
       "      <td>16.4</td>\n",
       "      <td>13.109840</td>\n",
       "    </tr>\n",
       "    <tr>\n",
       "      <th>19</th>\n",
       "      <td>33.9</td>\n",
       "      <td>27.663263</td>\n",
       "    </tr>\n",
       "    <tr>\n",
       "      <th>16</th>\n",
       "      <td>14.7</td>\n",
       "      <td>9.835112</td>\n",
       "    </tr>\n",
       "  </tbody>\n",
       "</table>\n",
       "</div>"
      ],
      "text/plain": [
       "    Actual  Predicted\n",
       "20    21.5  25.612542\n",
       "15    10.4   9.764495\n",
       "17    32.4  26.195267\n",
       "2     22.8  26.073464\n",
       "11    16.4  13.109840\n",
       "19    33.9  27.663263\n",
       "16    14.7   9.835112"
      ]
     },
     "execution_count": 22,
     "metadata": {},
     "output_type": "execute_result"
    }
   ],
   "source": [
    "# Create a feature selectior to get the top 3 features by the F metric.\n",
    "selector_f = SelectKBest(f_regression, k=3)\n",
    "\n",
    "\n",
    "# Get the feature-selected data\n",
    "xt_train, xt_test = selector_f.fit_transform(x_train, y_train), selector_f.transform(x_test)\n",
    "\n",
    "# Build and test the new model with the selected features\n",
    "model = linear_model.LinearRegression()\n",
    "model.fit(xt_train, y_train)\n",
    "preds = model.predict(xt_test)\n",
    "print_regression_error_metrics(y_test, preds)\n",
    "pd.DataFrame({'Actual':y_test, 'Predicted':preds})"
   ]
  },
  {
   "cell_type": "markdown",
   "metadata": {},
   "source": [
    "### Use Recursive Feature Elimination with Cross Validation"
   ]
  },
  {
   "cell_type": "code",
   "execution_count": 25,
   "metadata": {},
   "outputs": [
    {
     "name": "stdout",
     "output_type": "stream",
     "text": [
      "MSE, MAE, R^2, EVS: [20.98193480610998, 4.632496505789522, 0.68794832511724147, 0.74957333920191294]\n"
     ]
    },
    {
     "data": {
      "text/html": [
       "<div>\n",
       "<style>\n",
       "    .dataframe thead tr:only-child th {\n",
       "        text-align: right;\n",
       "    }\n",
       "\n",
       "    .dataframe thead th {\n",
       "        text-align: left;\n",
       "    }\n",
       "\n",
       "    .dataframe tbody tr th {\n",
       "        vertical-align: top;\n",
       "    }\n",
       "</style>\n",
       "<table border=\"1\" class=\"dataframe\">\n",
       "  <thead>\n",
       "    <tr style=\"text-align: right;\">\n",
       "      <th></th>\n",
       "      <th>Actual</th>\n",
       "      <th>Predicted</th>\n",
       "    </tr>\n",
       "  </thead>\n",
       "  <tbody>\n",
       "    <tr>\n",
       "      <th>20</th>\n",
       "      <td>21.5</td>\n",
       "      <td>26.132497</td>\n",
       "    </tr>\n",
       "    <tr>\n",
       "      <th>15</th>\n",
       "      <td>10.4</td>\n",
       "      <td>8.407512</td>\n",
       "    </tr>\n",
       "    <tr>\n",
       "      <th>17</th>\n",
       "      <td>32.4</td>\n",
       "      <td>26.437259</td>\n",
       "    </tr>\n",
       "    <tr>\n",
       "      <th>2</th>\n",
       "      <td>22.8</td>\n",
       "      <td>25.950664</td>\n",
       "    </tr>\n",
       "    <tr>\n",
       "      <th>11</th>\n",
       "      <td>16.4</td>\n",
       "      <td>14.277840</td>\n",
       "    </tr>\n",
       "    <tr>\n",
       "      <th>19</th>\n",
       "      <td>33.9</td>\n",
       "      <td>27.917320</td>\n",
       "    </tr>\n",
       "    <tr>\n",
       "      <th>16</th>\n",
       "      <td>14.7</td>\n",
       "      <td>8.727854</td>\n",
       "    </tr>\n",
       "  </tbody>\n",
       "</table>\n",
       "</div>"
      ],
      "text/plain": [
       "    Actual  Predicted\n",
       "20    21.5  26.132497\n",
       "15    10.4   8.407512\n",
       "17    32.4  26.437259\n",
       "2     22.8  25.950664\n",
       "11    16.4  14.277840\n",
       "19    33.9  27.917320\n",
       "16    14.7   8.727854"
      ]
     },
     "execution_count": 25,
     "metadata": {},
     "output_type": "execute_result"
    }
   ],
   "source": [
    "# Build the RFECV selector with 5-fold CV and the R-squared score as the score metric\n",
    "selector_f = RFECV(estimator=linear_model.LinearRegression(), cv=5, scoring=make_scorer(r2_score))\n",
    "selector_f.fit(x_train, y_train)\n",
    "\n",
    "# Get the feature-selected data\n",
    "xt_train, xt_test = selector_f.transform(x_train), selector_f.transform(x_test)\n",
    "\n",
    "# Build and test the new model with the selected features\n",
    "model = linear_model.LinearRegression()\n",
    "model.fit(xt_train, y_train)\n",
    "preds = model.predict(xt_test)\n",
    "print_regression_error_metrics(y_test, preds)\n",
    "pd.DataFrame({'Actual':y_test, 'Predicted':preds})"
   ]
  },
  {
   "cell_type": "code",
   "execution_count": null,
   "metadata": {
    "collapsed": true
   },
   "outputs": [],
   "source": []
  }
 ],
 "metadata": {
  "kernelspec": {
   "display_name": "Python 3",
   "language": "python",
   "name": "python3"
  },
  "language_info": {
   "codemirror_mode": {
    "name": "ipython",
    "version": 3
   },
   "file_extension": ".py",
   "mimetype": "text/x-python",
   "name": "python",
   "nbconvert_exporter": "python",
   "pygments_lexer": "ipython3",
   "version": "3.6.3"
  }
 },
 "nbformat": 4,
 "nbformat_minor": 2
}
